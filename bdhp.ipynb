{
 "cells": [
  {
   "cell_type": "code",
   "execution_count": 1541,
   "id": "572d99c2-d9c8-43a2-9de3-2d367683cde8",
   "metadata": {},
   "outputs": [],
   "source": [
    "# import libraries\n",
    "import pandas as pd\n",
    "import numpy as np\n",
    "import matplotlib.pyplot as plt\n",
    "import seaborn as sns\n",
    "import plotly.express as px\n",
    "import plotly.graph_objects as go\n",
    "from plotly.subplots import make_subplots\n",
    "# train test split the data\n",
    "from sklearn.model_selection import train_test_split\n",
    "from sklearn.preprocessing import OneHotEncoder\n",
    "\n",
    "# import regression algorithms\n",
    "from sklearn.linear_model import LinearRegression\n",
    "from sklearn.svm import SVR\n",
    "from sklearn.tree import DecisionTreeRegressor\n",
    "from sklearn.ensemble import RandomForestRegressor\n",
    "from sklearn.neighbors import KNeighborsRegressor\n",
    "from sklearn.ensemble import GradientBoostingRegressor\n",
    "from xgboost import XGBRegressor\n",
    "from sklearn.metrics import mean_squared_error, mean_absolute_error, r2_score\n",
    "from sklearn.impute import KNNImputer\n",
    "\n",
    "#import grid search cv for cross validation\n",
    "from sklearn.model_selection import GridSearchCV"
   ]
  },
  {
   "cell_type": "code",
   "execution_count": 1542,
   "id": "431a8a71-9dc0-4544-8da0-b6eaa0cfa10e",
   "metadata": {},
   "outputs": [
    {
     "data": {
      "text/html": [
       "<div>\n",
       "<style scoped>\n",
       "    .dataframe tbody tr th:only-of-type {\n",
       "        vertical-align: middle;\n",
       "    }\n",
       "\n",
       "    .dataframe tbody tr th {\n",
       "        vertical-align: top;\n",
       "    }\n",
       "\n",
       "    .dataframe thead th {\n",
       "        text-align: right;\n",
       "    }\n",
       "</style>\n",
       "<table border=\"1\" class=\"dataframe\">\n",
       "  <thead>\n",
       "    <tr style=\"text-align: right;\">\n",
       "      <th></th>\n",
       "      <th>Title</th>\n",
       "      <th>Bedrooms</th>\n",
       "      <th>Bathrooms</th>\n",
       "      <th>Floor_no</th>\n",
       "      <th>Occupancy_status</th>\n",
       "      <th>Floor_area</th>\n",
       "      <th>City</th>\n",
       "      <th>Price_in_taka</th>\n",
       "      <th>Location</th>\n",
       "    </tr>\n",
       "  </thead>\n",
       "  <tbody>\n",
       "    <tr>\n",
       "      <th>0</th>\n",
       "      <td>We Are Offering You A Very Spacious 1960 Sq Ft...</td>\n",
       "      <td>3.0</td>\n",
       "      <td>4.0</td>\n",
       "      <td>3</td>\n",
       "      <td>vacant</td>\n",
       "      <td>1960.0</td>\n",
       "      <td>dhaka</td>\n",
       "      <td>৳39,000,000</td>\n",
       "      <td>Gulshan 1, Gulshan</td>\n",
       "    </tr>\n",
       "    <tr>\n",
       "      <th>1</th>\n",
       "      <td>Valuable 1705 Square Feet Apartment Is Ready T...</td>\n",
       "      <td>3.0</td>\n",
       "      <td>3.0</td>\n",
       "      <td>1</td>\n",
       "      <td>vacant</td>\n",
       "      <td>1705.0</td>\n",
       "      <td>dhaka</td>\n",
       "      <td>৳16,900,000</td>\n",
       "      <td>Lake Circus Road, Kalabagan</td>\n",
       "    </tr>\n",
       "    <tr>\n",
       "      <th>2</th>\n",
       "      <td>1370 square feet apartment is ready to sale in...</td>\n",
       "      <td>3.0</td>\n",
       "      <td>3.0</td>\n",
       "      <td>6</td>\n",
       "      <td>vacant</td>\n",
       "      <td>1370.0</td>\n",
       "      <td>dhaka</td>\n",
       "      <td>৳12,500,000</td>\n",
       "      <td>Shukrabad, Dhanmondi</td>\n",
       "    </tr>\n",
       "    <tr>\n",
       "      <th>3</th>\n",
       "      <td>2125 Square Feet Apartment For Sale In Bashund...</td>\n",
       "      <td>3.0</td>\n",
       "      <td>3.0</td>\n",
       "      <td>4</td>\n",
       "      <td>vacant</td>\n",
       "      <td>2125.0</td>\n",
       "      <td>dhaka</td>\n",
       "      <td>৳20,000,000</td>\n",
       "      <td>Block L, Bashundhara R-A</td>\n",
       "    </tr>\n",
       "    <tr>\n",
       "      <th>4</th>\n",
       "      <td>Buy This 2687 Square Feet Flat In The Nice Are...</td>\n",
       "      <td>3.0</td>\n",
       "      <td>3.0</td>\n",
       "      <td>4</td>\n",
       "      <td>vacant</td>\n",
       "      <td>2687.0</td>\n",
       "      <td>dhaka</td>\n",
       "      <td>৳47,500,000</td>\n",
       "      <td>Road No 25, Banani</td>\n",
       "    </tr>\n",
       "  </tbody>\n",
       "</table>\n",
       "</div>"
      ],
      "text/plain": [
       "                                               Title  Bedrooms  Bathrooms  \\\n",
       "0  We Are Offering You A Very Spacious 1960 Sq Ft...       3.0        4.0   \n",
       "1  Valuable 1705 Square Feet Apartment Is Ready T...       3.0        3.0   \n",
       "2  1370 square feet apartment is ready to sale in...       3.0        3.0   \n",
       "3  2125 Square Feet Apartment For Sale In Bashund...       3.0        3.0   \n",
       "4  Buy This 2687 Square Feet Flat In The Nice Are...       3.0        3.0   \n",
       "\n",
       "  Floor_no Occupancy_status  Floor_area   City Price_in_taka  \\\n",
       "0        3           vacant      1960.0  dhaka   ৳39,000,000   \n",
       "1        1           vacant      1705.0  dhaka   ৳16,900,000   \n",
       "2        6           vacant      1370.0  dhaka   ৳12,500,000   \n",
       "3        4           vacant      2125.0  dhaka   ৳20,000,000   \n",
       "4        4           vacant      2687.0  dhaka   ৳47,500,000   \n",
       "\n",
       "                      Location  \n",
       "0           Gulshan 1, Gulshan  \n",
       "1  Lake Circus Road, Kalabagan  \n",
       "2         Shukrabad, Dhanmondi  \n",
       "3     Block L, Bashundhara R-A  \n",
       "4           Road No 25, Banani  "
      ]
     },
     "execution_count": 1542,
     "metadata": {},
     "output_type": "execute_result"
    }
   ],
   "source": [
    "df1 = pd.read_csv(\"house_price_bd.csv\")\n",
    "df1.head()"
   ]
  },
  {
   "cell_type": "code",
   "execution_count": 1543,
   "id": "7a03e132-e0b2-4a60-ba79-ebd1d28c2834",
   "metadata": {},
   "outputs": [
    {
     "data": {
      "text/html": [
       "<div>\n",
       "<style scoped>\n",
       "    .dataframe tbody tr th:only-of-type {\n",
       "        vertical-align: middle;\n",
       "    }\n",
       "\n",
       "    .dataframe tbody tr th {\n",
       "        vertical-align: top;\n",
       "    }\n",
       "\n",
       "    .dataframe thead th {\n",
       "        text-align: right;\n",
       "    }\n",
       "</style>\n",
       "<table border=\"1\" class=\"dataframe\">\n",
       "  <thead>\n",
       "    <tr style=\"text-align: right;\">\n",
       "      <th></th>\n",
       "      <th>Bedrooms</th>\n",
       "      <th>Bathrooms</th>\n",
       "      <th>Floor_area</th>\n",
       "    </tr>\n",
       "  </thead>\n",
       "  <tbody>\n",
       "    <tr>\n",
       "      <th>count</th>\n",
       "      <td>2864.000000</td>\n",
       "      <td>2864.000000</td>\n",
       "      <td>3766.000000</td>\n",
       "    </tr>\n",
       "    <tr>\n",
       "      <th>mean</th>\n",
       "      <td>3.133031</td>\n",
       "      <td>2.992668</td>\n",
       "      <td>1940.299522</td>\n",
       "    </tr>\n",
       "    <tr>\n",
       "      <th>std</th>\n",
       "      <td>2.215457</td>\n",
       "      <td>0.978434</td>\n",
       "      <td>6024.921935</td>\n",
       "    </tr>\n",
       "    <tr>\n",
       "      <th>min</th>\n",
       "      <td>1.000000</td>\n",
       "      <td>1.000000</td>\n",
       "      <td>84.000000</td>\n",
       "    </tr>\n",
       "    <tr>\n",
       "      <th>25%</th>\n",
       "      <td>3.000000</td>\n",
       "      <td>3.000000</td>\n",
       "      <td>1100.000000</td>\n",
       "    </tr>\n",
       "    <tr>\n",
       "      <th>50%</th>\n",
       "      <td>3.000000</td>\n",
       "      <td>3.000000</td>\n",
       "      <td>1380.000000</td>\n",
       "    </tr>\n",
       "    <tr>\n",
       "      <th>75%</th>\n",
       "      <td>3.000000</td>\n",
       "      <td>3.000000</td>\n",
       "      <td>1860.000000</td>\n",
       "    </tr>\n",
       "    <tr>\n",
       "      <th>max</th>\n",
       "      <td>50.000000</td>\n",
       "      <td>10.000000</td>\n",
       "      <td>195840.000000</td>\n",
       "    </tr>\n",
       "  </tbody>\n",
       "</table>\n",
       "</div>"
      ],
      "text/plain": [
       "          Bedrooms    Bathrooms     Floor_area\n",
       "count  2864.000000  2864.000000    3766.000000\n",
       "mean      3.133031     2.992668    1940.299522\n",
       "std       2.215457     0.978434    6024.921935\n",
       "min       1.000000     1.000000      84.000000\n",
       "25%       3.000000     3.000000    1100.000000\n",
       "50%       3.000000     3.000000    1380.000000\n",
       "75%       3.000000     3.000000    1860.000000\n",
       "max      50.000000    10.000000  195840.000000"
      ]
     },
     "execution_count": 1543,
     "metadata": {},
     "output_type": "execute_result"
    }
   ],
   "source": [
    "df1.describe()"
   ]
  },
  {
   "cell_type": "code",
   "execution_count": 1544,
   "id": "432e3813-3df1-43b1-bab7-77b407abcedd",
   "metadata": {},
   "outputs": [
    {
     "data": {
      "text/plain": [
       "array(['dhaka', 'chattogram', 'cumilla', 'narayanganj-city', 'gazipur'],\n",
       "      dtype=object)"
      ]
     },
     "execution_count": 1544,
     "metadata": {},
     "output_type": "execute_result"
    }
   ],
   "source": [
    "df1['City'].unique()"
   ]
  },
  {
   "cell_type": "code",
   "execution_count": 1545,
   "id": "1ce0e0f2-f0e2-488f-b35e-131bcc2c379f",
   "metadata": {},
   "outputs": [
    {
     "data": {
      "text/plain": [
       "City\n",
       "dhaka               1650\n",
       "chattogram          1470\n",
       "narayanganj-city     420\n",
       "gazipur              180\n",
       "cumilla              145\n",
       "Name: count, dtype: int64"
      ]
     },
     "execution_count": 1545,
     "metadata": {},
     "output_type": "execute_result"
    }
   ],
   "source": [
    "df1['City'].value_counts()"
   ]
  },
  {
   "cell_type": "code",
   "execution_count": 1546,
   "id": "fbb4ff77-2c65-4125-b909-946f50b5a190",
   "metadata": {},
   "outputs": [
    {
     "data": {
      "text/plain": [
       "array(['3', '1', '6', '4', '8', '2', '5', '7', '9', '8th', nan, '10',\n",
       "       '14', 'G+7', '13', '12', '1st', '11', 'A1,A2,A3,A4,A5,A6,A7',\n",
       "       '0+7', '1F', '4th to 8th Backside', '18', '5th', '17',\n",
       "       'Merin City - Purbach'], dtype=object)"
      ]
     },
     "execution_count": 1546,
     "metadata": {},
     "output_type": "execute_result"
    }
   ],
   "source": [
    "df1['Floor_no'].unique()"
   ]
  },
  {
   "cell_type": "markdown",
   "id": "a9aa493b-1caa-4de2-907e-6c6c35770eab",
   "metadata": {},
   "source": [
    "## Handling Floor_no column"
   ]
  },
  {
   "cell_type": "code",
   "execution_count": 1548,
   "id": "06787c6e-0bc6-4dc5-a494-c340e0f0783c",
   "metadata": {},
   "outputs": [],
   "source": [
    "import re\n",
    "def floor(floor_value):\n",
    "    if pd.isna(floor_value):\n",
    "        return np.nan\n",
    "\n",
    "    # Ensure the value is a string\n",
    "    floor_value = str(floor_value)\n",
    "    \n",
    "    # Handle 'G' as 1 and 'G+X' as 1 + X\n",
    "    if 'G' in floor_value:\n",
    "        if '+' in floor_value:\n",
    "            parts = floor_value.split('+')\n",
    "            try:\n",
    "                return 1 + int(parts[-1])\n",
    "            except ValueError:\n",
    "                return np.nan\n",
    "        elif floor_value.strip() == 'G':\n",
    "            return 1\n",
    "    \n",
    "    # Remove suffixes like 'th', 'st', 'nd', 'rd'\n",
    "    floor_value = re.sub(r'(th|st|nd|rd)\\b', '', floor_value)\n",
    "    \n",
    "    # Extract a single number if present\n",
    "    if re.search(r'\\d+', floor_value):\n",
    "        number = re.search(r'\\d+', floor_value).group()\n",
    "        return int(number)\n",
    "    \n",
    "    # Handle ranges like '4 to 8' by calculating the median\n",
    "    if 'to' in floor_value:\n",
    "        try:\n",
    "            start, end = map(int, re.findall(r'\\d+', floor_value))\n",
    "            return (start + end) // 2\n",
    "        except (ValueError, IndexError):\n",
    "            return np.nan\n",
    "    \n",
    "    # Handle invalid cases with ',' or ' '\n",
    "    if ',' in floor_value or ' ' in floor_value:\n",
    "        return np.nan\n",
    "    \n",
    "    return np.nan\n",
    "\n",
    "df1['Floor_no'] = df1['Floor_no'].apply(floor)"
   ]
  },
  {
   "cell_type": "code",
   "execution_count": 1549,
   "id": "e09c32de-61ec-4ecb-af58-f0482ac5f6d0",
   "metadata": {},
   "outputs": [
    {
     "data": {
      "text/plain": [
       "array([ 3.,  1.,  6.,  4.,  8.,  2.,  5.,  7.,  9., nan, 10., 14., 13.,\n",
       "       12., 11.,  0., 18., 17.])"
      ]
     },
     "execution_count": 1549,
     "metadata": {},
     "output_type": "execute_result"
    }
   ],
   "source": [
    "df1['Floor_no'].unique()"
   ]
  },
  {
   "cell_type": "code",
   "execution_count": 1550,
   "id": "494ccdb6-7b54-4956-85d5-f1739513c11e",
   "metadata": {},
   "outputs": [
    {
     "data": {
      "text/plain": [
       "Title                  0\n",
       "Bedrooms            1001\n",
       "Bathrooms           1001\n",
       "Floor_no             690\n",
       "Occupancy_status      99\n",
       "Floor_area            99\n",
       "City                   0\n",
       "Price_in_taka          0\n",
       "Location               6\n",
       "dtype: int64"
      ]
     },
     "execution_count": 1550,
     "metadata": {},
     "output_type": "execute_result"
    }
   ],
   "source": [
    "df1.isnull().sum()"
   ]
  },
  {
   "cell_type": "code",
   "execution_count": 1551,
   "id": "ea030a7f-f986-42f5-9c50-60d98f1ce25e",
   "metadata": {},
   "outputs": [],
   "source": [
    "df1['Price_in_taka'] = df1['Price_in_taka'].str.replace('৳', '').str.replace(',', '').astype('int64')"
   ]
  },
  {
   "cell_type": "code",
   "execution_count": 1552,
   "id": "50969671-285a-4134-8826-3ba8a6a432a6",
   "metadata": {},
   "outputs": [
    {
     "data": {
      "text/plain": [
       "0    39000000\n",
       "1    16900000\n",
       "2    12500000\n",
       "3    20000000\n",
       "4    47500000\n",
       "Name: Price_in_taka, dtype: int64"
      ]
     },
     "execution_count": 1552,
     "metadata": {},
     "output_type": "execute_result"
    }
   ],
   "source": [
    "df1[\"Price_in_taka\"].head()"
   ]
  },
  {
   "cell_type": "code",
   "execution_count": 1553,
   "id": "50511662-5fb4-4f88-8f12-b78d1d401d77",
   "metadata": {},
   "outputs": [],
   "source": [
    "# Convert the values of Price_in_taka into millions.\n",
    "df1['Price_in_taka'] = df1['Price_in_taka'] / 1000000\n",
    "# chane the column name price_in_taka into Price_in_taka(M)\n",
    "df1 = df1.rename(columns = {'Price_in_taka': 'Price_in_taka(Mils)'})"
   ]
  },
  {
   "cell_type": "code",
   "execution_count": 1554,
   "id": "92c2744b-af9a-49b1-bcbb-dc8c7ef50188",
   "metadata": {},
   "outputs": [
    {
     "data": {
      "text/html": [
       "<div>\n",
       "<style scoped>\n",
       "    .dataframe tbody tr th:only-of-type {\n",
       "        vertical-align: middle;\n",
       "    }\n",
       "\n",
       "    .dataframe tbody tr th {\n",
       "        vertical-align: top;\n",
       "    }\n",
       "\n",
       "    .dataframe thead th {\n",
       "        text-align: right;\n",
       "    }\n",
       "</style>\n",
       "<table border=\"1\" class=\"dataframe\">\n",
       "  <thead>\n",
       "    <tr style=\"text-align: right;\">\n",
       "      <th></th>\n",
       "      <th>Bedrooms</th>\n",
       "      <th>Bathrooms</th>\n",
       "      <th>Floor_no</th>\n",
       "      <th>Floor_area</th>\n",
       "      <th>Price_in_taka(Mils)</th>\n",
       "    </tr>\n",
       "  </thead>\n",
       "  <tbody>\n",
       "    <tr>\n",
       "      <th>count</th>\n",
       "      <td>2864.000000</td>\n",
       "      <td>2864.000000</td>\n",
       "      <td>3175.000000</td>\n",
       "      <td>3766.000000</td>\n",
       "      <td>3865.000000</td>\n",
       "    </tr>\n",
       "    <tr>\n",
       "      <th>mean</th>\n",
       "      <td>3.133031</td>\n",
       "      <td>2.992668</td>\n",
       "      <td>4.445354</td>\n",
       "      <td>1940.299522</td>\n",
       "      <td>12.563107</td>\n",
       "    </tr>\n",
       "    <tr>\n",
       "      <th>std</th>\n",
       "      <td>2.215457</td>\n",
       "      <td>0.978434</td>\n",
       "      <td>2.676902</td>\n",
       "      <td>6024.921935</td>\n",
       "      <td>29.112108</td>\n",
       "    </tr>\n",
       "    <tr>\n",
       "      <th>min</th>\n",
       "      <td>1.000000</td>\n",
       "      <td>1.000000</td>\n",
       "      <td>0.000000</td>\n",
       "      <td>84.000000</td>\n",
       "      <td>0.000066</td>\n",
       "    </tr>\n",
       "    <tr>\n",
       "      <th>25%</th>\n",
       "      <td>3.000000</td>\n",
       "      <td>3.000000</td>\n",
       "      <td>2.000000</td>\n",
       "      <td>1100.000000</td>\n",
       "      <td>4.900000</td>\n",
       "    </tr>\n",
       "    <tr>\n",
       "      <th>50%</th>\n",
       "      <td>3.000000</td>\n",
       "      <td>3.000000</td>\n",
       "      <td>4.000000</td>\n",
       "      <td>1380.000000</td>\n",
       "      <td>7.000000</td>\n",
       "    </tr>\n",
       "    <tr>\n",
       "      <th>75%</th>\n",
       "      <td>3.000000</td>\n",
       "      <td>3.000000</td>\n",
       "      <td>6.000000</td>\n",
       "      <td>1860.000000</td>\n",
       "      <td>11.000000</td>\n",
       "    </tr>\n",
       "    <tr>\n",
       "      <th>max</th>\n",
       "      <td>50.000000</td>\n",
       "      <td>10.000000</td>\n",
       "      <td>18.000000</td>\n",
       "      <td>195840.000000</td>\n",
       "      <td>532.000000</td>\n",
       "    </tr>\n",
       "  </tbody>\n",
       "</table>\n",
       "</div>"
      ],
      "text/plain": [
       "          Bedrooms    Bathrooms     Floor_no     Floor_area  \\\n",
       "count  2864.000000  2864.000000  3175.000000    3766.000000   \n",
       "mean      3.133031     2.992668     4.445354    1940.299522   \n",
       "std       2.215457     0.978434     2.676902    6024.921935   \n",
       "min       1.000000     1.000000     0.000000      84.000000   \n",
       "25%       3.000000     3.000000     2.000000    1100.000000   \n",
       "50%       3.000000     3.000000     4.000000    1380.000000   \n",
       "75%       3.000000     3.000000     6.000000    1860.000000   \n",
       "max      50.000000    10.000000    18.000000  195840.000000   \n",
       "\n",
       "       Price_in_taka(Mils)  \n",
       "count          3865.000000  \n",
       "mean             12.563107  \n",
       "std              29.112108  \n",
       "min               0.000066  \n",
       "25%               4.900000  \n",
       "50%               7.000000  \n",
       "75%              11.000000  \n",
       "max             532.000000  "
      ]
     },
     "execution_count": 1554,
     "metadata": {},
     "output_type": "execute_result"
    }
   ],
   "source": [
    "df1.describe()"
   ]
  },
  {
   "cell_type": "markdown",
   "id": "c74b62d6-549f-44ae-b9be-4b41d2e504ff",
   "metadata": {},
   "source": [
    "## Handling missing values"
   ]
  },
  {
   "cell_type": "code",
   "execution_count": 1556,
   "id": "c16f8e5e-3c14-4f17-be99-0d758c8620ba",
   "metadata": {},
   "outputs": [
    {
     "data": {
      "text/plain": [
       "Title                     0\n",
       "Bedrooms               1001\n",
       "Bathrooms              1001\n",
       "Floor_no                690\n",
       "Occupancy_status         99\n",
       "Floor_area               99\n",
       "City                      0\n",
       "Price_in_taka(Mils)       0\n",
       "Location                  6\n",
       "dtype: int64"
      ]
     },
     "execution_count": 1556,
     "metadata": {},
     "output_type": "execute_result"
    }
   ],
   "source": [
    "# checking missing values\n",
    "df1.isnull().sum()"
   ]
  },
  {
   "cell_type": "code",
   "execution_count": 1557,
   "id": "37e469e4-eb99-45db-9f69-8c5bd868e4e6",
   "metadata": {},
   "outputs": [
    {
     "data": {
      "text/plain": [
       "Title                    0\n",
       "Bedrooms               343\n",
       "Bathrooms              343\n",
       "Floor_no                 0\n",
       "Occupancy_status         0\n",
       "Floor_area               0\n",
       "City                     0\n",
       "Price_in_taka(Mils)      0\n",
       "Location                 0\n",
       "dtype: int64"
      ]
     },
     "execution_count": 1557,
     "metadata": {},
     "output_type": "execute_result"
    }
   ],
   "source": [
    "columns_to_drop_missing_values = ['Floor_area', 'Location', 'Floor_no']\n",
    "\n",
    "# Remove rows with missing values in the specified columns\n",
    "df1 = df1.dropna(subset=columns_to_drop_missing_values, axis = 0)\n",
    "# verify the result\n",
    "df1.isnull().sum()"
   ]
  },
  {
   "cell_type": "markdown",
   "id": "9a07ca70-1b3d-4ec2-b854-dbdc28ca009c",
   "metadata": {},
   "source": [
    "## Impute missing values"
   ]
  },
  {
   "cell_type": "code",
   "execution_count": 1559,
   "id": "163b43f7-2127-4764-aab3-3f734019fbac",
   "metadata": {},
   "outputs": [
    {
     "data": {
      "text/plain": [
       "Title                  0\n",
       "Bedrooms               0\n",
       "Bathrooms              0\n",
       "Floor_no               0\n",
       "Occupancy_status       0\n",
       "Floor_area             0\n",
       "City                   0\n",
       "Price_in_taka(Mils)    0\n",
       "Location               0\n",
       "dtype: int64"
      ]
     },
     "execution_count": 1559,
     "metadata": {},
     "output_type": "execute_result"
    }
   ],
   "source": [
    "# Impute the missing values in Bathrooms and Bedrooms using Floor area\n",
    "from sklearn.impute import KNNImputer\n",
    "features = ['Floor_area', 'Bedrooms', 'Bathrooms']\n",
    "\n",
    "imputer = KNNImputer(n_neighbors=5, weights='distance')\n",
    "df1[features] = imputer.fit_transform(df1[features])\n",
    "df1.isnull().sum()"
   ]
  },
  {
   "cell_type": "code",
   "execution_count": 1560,
   "id": "0028f0cd-fd3b-4211-b6c5-af8f84bb3a36",
   "metadata": {},
   "outputs": [],
   "source": [
    "# Change the data type of the Columns \"Bedrooms\", \"Bathrooms\", \"Floor_no\"\n",
    "df1['Bedrooms'] = df1['Bedrooms'].astype(\"int64\")\n",
    "df1['Bathrooms'] = df1['Bathrooms'].astype(\"int64\")\n",
    "df1['Floor_no'] = df1['Floor_no'].astype(\"int64\")"
   ]
  },
  {
   "cell_type": "code",
   "execution_count": 1561,
   "id": "fb419c17-7fef-4182-88c5-e77d958b33a2",
   "metadata": {},
   "outputs": [
    {
     "data": {
      "text/plain": [
       "Location\n",
       "Dewan Bazar, Bakalia                            98\n",
       "Dhaka Trunk Road, 9 No. North Pahartali Ward    73\n",
       "Joydebpur, Gazipur Sadar Upazila                66\n",
       "24 No. North Agrabad Ward, Double Mooring       50\n",
       "Section 10, Mirpur                              49\n",
       "                                                ..\n",
       "Salimullah Road, Mohammadpur                     1\n",
       "Sadarghat Road, 33 No. Firingee Bazaar Ward      1\n",
       "Sadar Hospital Road, Monohorpur                  1\n",
       "City Gate, 10 No. North Kattali Ward             1\n",
       "aziz Moholla, Mohammadpur                        1\n",
       "Name: Location, Length: 446, dtype: int64"
      ]
     },
     "execution_count": 1561,
     "metadata": {},
     "output_type": "execute_result"
    }
   ],
   "source": [
    "location_stats = df1.groupby('Location')['Location'].agg('count').sort_values(ascending = False)\n",
    "location_stats"
   ]
  },
  {
   "cell_type": "code",
   "execution_count": 1562,
   "id": "c01d23e6-1848-4b71-aeed-58c8929aa168",
   "metadata": {},
   "outputs": [
    {
     "data": {
      "text/plain": [
       "Location\n",
       "Jahuri Moholla, Mohammadpur                        5\n",
       "Jigatola, Hazaribag                                5\n",
       "Jangalpara, 7 No. West Sholoshohor Ward            5\n",
       "Port Connecting Road, 11 No. South Kattali Ward    5\n",
       "Madina Masjid Road, Thakur Para                    5\n",
       "                                                  ..\n",
       "Salimullah Road, Mohammadpur                       1\n",
       "Sadarghat Road, 33 No. Firingee Bazaar Ward        1\n",
       "Sadar Hospital Road, Monohorpur                    1\n",
       "City Gate, 10 No. North Kattali Ward               1\n",
       "aziz Moholla, Mohammadpur                          1\n",
       "Name: Location, Length: 289, dtype: int64"
      ]
     },
     "execution_count": 1562,
     "metadata": {},
     "output_type": "execute_result"
    }
   ],
   "source": [
    "location_stats_less_than_5 = location_stats[location_stats <= 5]\n",
    "location_stats_less_than_5"
   ]
  },
  {
   "cell_type": "code",
   "execution_count": 1563,
   "id": "29192518-cb0b-44de-a00c-a4da7195e316",
   "metadata": {},
   "outputs": [
    {
     "data": {
      "text/plain": [
       "158"
      ]
     },
     "execution_count": 1563,
     "metadata": {},
     "output_type": "execute_result"
    }
   ],
   "source": [
    "df1.Location = df1.Location.apply(lambda x: 'other' if x in location_stats_less_than_5 else x)\n",
    "len(df1.Location.unique())"
   ]
  },
  {
   "cell_type": "markdown",
   "id": "d079d28c-481a-42d5-b5c3-ecdf6a01c850",
   "metadata": {},
   "source": [
    "## Dropping duplicate rows"
   ]
  },
  {
   "cell_type": "code",
   "execution_count": 1565,
   "id": "83f14116-1e4f-4946-8d03-fde3450fda6d",
   "metadata": {},
   "outputs": [],
   "source": [
    "# remove duplicates, keeping the last occurrence\n",
    "df1 = df1.drop_duplicates(keep='last')"
   ]
  },
  {
   "cell_type": "code",
   "execution_count": 1566,
   "id": "a8bea8f3-466b-4818-aeed-a27e245c35fc",
   "metadata": {},
   "outputs": [
    {
     "data": {
      "text/plain": [
       "0"
      ]
     },
     "execution_count": 1566,
     "metadata": {},
     "output_type": "execute_result"
    }
   ],
   "source": [
    "df1.duplicated().sum()"
   ]
  },
  {
   "cell_type": "code",
   "execution_count": 1567,
   "id": "1204c0dd-02ad-4307-8ef4-cd6d906d2843",
   "metadata": {},
   "outputs": [
    {
     "data": {
      "text/html": [
       "<div>\n",
       "<style scoped>\n",
       "    .dataframe tbody tr th:only-of-type {\n",
       "        vertical-align: middle;\n",
       "    }\n",
       "\n",
       "    .dataframe tbody tr th {\n",
       "        vertical-align: top;\n",
       "    }\n",
       "\n",
       "    .dataframe thead th {\n",
       "        text-align: right;\n",
       "    }\n",
       "</style>\n",
       "<table border=\"1\" class=\"dataframe\">\n",
       "  <thead>\n",
       "    <tr style=\"text-align: right;\">\n",
       "      <th></th>\n",
       "      <th>Bedrooms</th>\n",
       "      <th>Bathrooms</th>\n",
       "      <th>Floor_no</th>\n",
       "      <th>Floor_area</th>\n",
       "      <th>Price_in_taka(Mils)</th>\n",
       "    </tr>\n",
       "  </thead>\n",
       "  <tbody>\n",
       "    <tr>\n",
       "      <th>count</th>\n",
       "      <td>2349.000000</td>\n",
       "      <td>2349.000000</td>\n",
       "      <td>2349.000000</td>\n",
       "      <td>2349.000000</td>\n",
       "      <td>2349.000000</td>\n",
       "    </tr>\n",
       "    <tr>\n",
       "      <th>mean</th>\n",
       "      <td>2.955726</td>\n",
       "      <td>2.852703</td>\n",
       "      <td>4.562367</td>\n",
       "      <td>1463.186462</td>\n",
       "      <td>11.304496</td>\n",
       "    </tr>\n",
       "    <tr>\n",
       "      <th>std</th>\n",
       "      <td>1.888208</td>\n",
       "      <td>1.080459</td>\n",
       "      <td>2.710013</td>\n",
       "      <td>1395.070470</td>\n",
       "      <td>22.322902</td>\n",
       "    </tr>\n",
       "    <tr>\n",
       "      <th>min</th>\n",
       "      <td>1.000000</td>\n",
       "      <td>1.000000</td>\n",
       "      <td>0.000000</td>\n",
       "      <td>84.000000</td>\n",
       "      <td>1.050000</td>\n",
       "    </tr>\n",
       "    <tr>\n",
       "      <th>25%</th>\n",
       "      <td>3.000000</td>\n",
       "      <td>2.000000</td>\n",
       "      <td>2.000000</td>\n",
       "      <td>1075.000000</td>\n",
       "      <td>5.000000</td>\n",
       "    </tr>\n",
       "    <tr>\n",
       "      <th>50%</th>\n",
       "      <td>3.000000</td>\n",
       "      <td>3.000000</td>\n",
       "      <td>4.000000</td>\n",
       "      <td>1316.000000</td>\n",
       "      <td>7.000000</td>\n",
       "    </tr>\n",
       "    <tr>\n",
       "      <th>75%</th>\n",
       "      <td>3.000000</td>\n",
       "      <td>3.000000</td>\n",
       "      <td>6.000000</td>\n",
       "      <td>1570.000000</td>\n",
       "      <td>11.000000</td>\n",
       "    </tr>\n",
       "    <tr>\n",
       "      <th>max</th>\n",
       "      <td>46.000000</td>\n",
       "      <td>10.000000</td>\n",
       "      <td>18.000000</td>\n",
       "      <td>24000.000000</td>\n",
       "      <td>363.200000</td>\n",
       "    </tr>\n",
       "  </tbody>\n",
       "</table>\n",
       "</div>"
      ],
      "text/plain": [
       "          Bedrooms    Bathrooms     Floor_no    Floor_area  \\\n",
       "count  2349.000000  2349.000000  2349.000000   2349.000000   \n",
       "mean      2.955726     2.852703     4.562367   1463.186462   \n",
       "std       1.888208     1.080459     2.710013   1395.070470   \n",
       "min       1.000000     1.000000     0.000000     84.000000   \n",
       "25%       3.000000     2.000000     2.000000   1075.000000   \n",
       "50%       3.000000     3.000000     4.000000   1316.000000   \n",
       "75%       3.000000     3.000000     6.000000   1570.000000   \n",
       "max      46.000000    10.000000    18.000000  24000.000000   \n",
       "\n",
       "       Price_in_taka(Mils)  \n",
       "count          2349.000000  \n",
       "mean             11.304496  \n",
       "std              22.322902  \n",
       "min               1.050000  \n",
       "25%               5.000000  \n",
       "50%               7.000000  \n",
       "75%              11.000000  \n",
       "max             363.200000  "
      ]
     },
     "execution_count": 1567,
     "metadata": {},
     "output_type": "execute_result"
    }
   ],
   "source": [
    "df1.describe()"
   ]
  },
  {
   "cell_type": "markdown",
   "id": "29aa22fa-630f-4c88-bc65-592fb26c3513",
   "metadata": {},
   "source": [
    "## Removing Outliers"
   ]
  },
  {
   "cell_type": "code",
   "execution_count": 1569,
   "id": "9591ce94-7046-4bae-9da1-87c2adc83120",
   "metadata": {},
   "outputs": [
    {
     "data": {
      "text/html": [
       "<div>\n",
       "<style scoped>\n",
       "    .dataframe tbody tr th:only-of-type {\n",
       "        vertical-align: middle;\n",
       "    }\n",
       "\n",
       "    .dataframe tbody tr th {\n",
       "        vertical-align: top;\n",
       "    }\n",
       "\n",
       "    .dataframe thead th {\n",
       "        text-align: right;\n",
       "    }\n",
       "</style>\n",
       "<table border=\"1\" class=\"dataframe\">\n",
       "  <thead>\n",
       "    <tr style=\"text-align: right;\">\n",
       "      <th></th>\n",
       "      <th>Title</th>\n",
       "      <th>Bedrooms</th>\n",
       "      <th>Bathrooms</th>\n",
       "      <th>Floor_no</th>\n",
       "      <th>Occupancy_status</th>\n",
       "      <th>Floor_area</th>\n",
       "      <th>City</th>\n",
       "      <th>Price_in_taka(Mils)</th>\n",
       "      <th>Location</th>\n",
       "    </tr>\n",
       "  </thead>\n",
       "  <tbody>\n",
       "    <tr>\n",
       "      <th>1019</th>\n",
       "      <td>Acquire This 130 Sq Ft Shop Which Is Up For Sa...</td>\n",
       "      <td>1</td>\n",
       "      <td>1</td>\n",
       "      <td>2</td>\n",
       "      <td>vacant</td>\n",
       "      <td>130.0</td>\n",
       "      <td>dhaka</td>\n",
       "      <td>4.200</td>\n",
       "      <td>other</td>\n",
       "    </tr>\n",
       "    <tr>\n",
       "      <th>1733</th>\n",
       "      <td>Close To Chattogram International Medical Coll...</td>\n",
       "      <td>1</td>\n",
       "      <td>1</td>\n",
       "      <td>1</td>\n",
       "      <td>vacant</td>\n",
       "      <td>135.0</td>\n",
       "      <td>chattogram</td>\n",
       "      <td>2.430</td>\n",
       "      <td>Chand Mia Road, 4 No Chandgaon Ward</td>\n",
       "    </tr>\n",
       "    <tr>\n",
       "      <th>1745</th>\n",
       "      <td>Shop Space Up For Sale In Bahaddarhat Nearby J...</td>\n",
       "      <td>1</td>\n",
       "      <td>1</td>\n",
       "      <td>4</td>\n",
       "      <td>vacant</td>\n",
       "      <td>157.0</td>\n",
       "      <td>chattogram</td>\n",
       "      <td>4.082</td>\n",
       "      <td>CDA Avenue, Sholokbahar</td>\n",
       "    </tr>\n",
       "    <tr>\n",
       "      <th>1811</th>\n",
       "      <td>AT Dhaka Trunk Road, 9 No. North Pahartali War...</td>\n",
       "      <td>1</td>\n",
       "      <td>1</td>\n",
       "      <td>1</td>\n",
       "      <td>vacant</td>\n",
       "      <td>105.0</td>\n",
       "      <td>chattogram</td>\n",
       "      <td>3.675</td>\n",
       "      <td>Dhaka Trunk Road, 9 No. North Pahartali Ward</td>\n",
       "    </tr>\n",
       "    <tr>\n",
       "      <th>1812</th>\n",
       "      <td>Get The Commercial Benefits In This 110 Sq Ft ...</td>\n",
       "      <td>1</td>\n",
       "      <td>1</td>\n",
       "      <td>1</td>\n",
       "      <td>vacant</td>\n",
       "      <td>110.0</td>\n",
       "      <td>chattogram</td>\n",
       "      <td>3.850</td>\n",
       "      <td>Dhaka Trunk Road, 9 No. North Pahartali Ward</td>\n",
       "    </tr>\n",
       "  </tbody>\n",
       "</table>\n",
       "</div>"
      ],
      "text/plain": [
       "                                                  Title  Bedrooms  Bathrooms  \\\n",
       "1019  Acquire This 130 Sq Ft Shop Which Is Up For Sa...         1          1   \n",
       "1733  Close To Chattogram International Medical Coll...         1          1   \n",
       "1745  Shop Space Up For Sale In Bahaddarhat Nearby J...         1          1   \n",
       "1811  AT Dhaka Trunk Road, 9 No. North Pahartali War...         1          1   \n",
       "1812  Get The Commercial Benefits In This 110 Sq Ft ...         1          1   \n",
       "\n",
       "      Floor_no Occupancy_status  Floor_area        City  Price_in_taka(Mils)  \\\n",
       "1019         2           vacant       130.0       dhaka                4.200   \n",
       "1733         1           vacant       135.0  chattogram                2.430   \n",
       "1745         4           vacant       157.0  chattogram                4.082   \n",
       "1811         1           vacant       105.0  chattogram                3.675   \n",
       "1812         1           vacant       110.0  chattogram                3.850   \n",
       "\n",
       "                                          Location  \n",
       "1019                                         other  \n",
       "1733           Chand Mia Road, 4 No Chandgaon Ward  \n",
       "1745                       CDA Avenue, Sholokbahar  \n",
       "1811  Dhaka Trunk Road, 9 No. North Pahartali Ward  \n",
       "1812  Dhaka Trunk Road, 9 No. North Pahartali Ward  "
      ]
     },
     "execution_count": 1569,
     "metadata": {},
     "output_type": "execute_result"
    }
   ],
   "source": [
    "df1[df1.Floor_area/df1.Bedrooms<200].head() # checking for rooms less than 200 sqft"
   ]
  },
  {
   "cell_type": "code",
   "execution_count": 1570,
   "id": "a9509602-a7e5-449a-bc4d-932b27eb4bc4",
   "metadata": {},
   "outputs": [
    {
     "data": {
      "text/plain": [
       "(2195, 9)"
      ]
     },
     "execution_count": 1570,
     "metadata": {},
     "output_type": "execute_result"
    }
   ],
   "source": [
    "df1 = df1[~(df1.Floor_area/df1.Bedrooms<200)] # removing rooms less than 200 sqft\n",
    "df1.shape"
   ]
  },
  {
   "cell_type": "code",
   "execution_count": 1571,
   "id": "83e96aff-73f4-4007-954c-4613fbb3c0d7",
   "metadata": {},
   "outputs": [
    {
     "data": {
      "text/html": [
       "<div>\n",
       "<style scoped>\n",
       "    .dataframe tbody tr th:only-of-type {\n",
       "        vertical-align: middle;\n",
       "    }\n",
       "\n",
       "    .dataframe tbody tr th {\n",
       "        vertical-align: top;\n",
       "    }\n",
       "\n",
       "    .dataframe thead th {\n",
       "        text-align: right;\n",
       "    }\n",
       "</style>\n",
       "<table border=\"1\" class=\"dataframe\">\n",
       "  <thead>\n",
       "    <tr style=\"text-align: right;\">\n",
       "      <th></th>\n",
       "      <th>Title</th>\n",
       "      <th>Bedrooms</th>\n",
       "      <th>Bathrooms</th>\n",
       "      <th>Floor_no</th>\n",
       "      <th>Occupancy_status</th>\n",
       "      <th>Floor_area</th>\n",
       "      <th>City</th>\n",
       "      <th>Price_in_taka(Mils)</th>\n",
       "      <th>Location</th>\n",
       "      <th>price_per_sqft</th>\n",
       "    </tr>\n",
       "  </thead>\n",
       "  <tbody>\n",
       "    <tr>\n",
       "      <th>214</th>\n",
       "      <td>An Apartment For Sale Is All Set For You To Se...</td>\n",
       "      <td>3</td>\n",
       "      <td>3</td>\n",
       "      <td>8</td>\n",
       "      <td>vacant</td>\n",
       "      <td>1100.0</td>\n",
       "      <td>dhaka</td>\n",
       "      <td>4.70</td>\n",
       "      <td>other</td>\n",
       "      <td>4272.727273</td>\n",
       "    </tr>\n",
       "    <tr>\n",
       "      <th>215</th>\n",
       "      <td>A Flat With All Facilities Is Up For Sale At W...</td>\n",
       "      <td>3</td>\n",
       "      <td>2</td>\n",
       "      <td>2</td>\n",
       "      <td>vacant</td>\n",
       "      <td>1220.0</td>\n",
       "      <td>dhaka</td>\n",
       "      <td>5.00</td>\n",
       "      <td>West Shewrapara, Mirpur</td>\n",
       "      <td>4098.360656</td>\n",
       "    </tr>\n",
       "    <tr>\n",
       "      <th>216</th>\n",
       "      <td>1240 Square Feet Flat For Sale In The Location...</td>\n",
       "      <td>3</td>\n",
       "      <td>3</td>\n",
       "      <td>5</td>\n",
       "      <td>vacant</td>\n",
       "      <td>1240.0</td>\n",
       "      <td>dhaka</td>\n",
       "      <td>7.32</td>\n",
       "      <td>Section 1, Mirpur</td>\n",
       "      <td>5903.225806</td>\n",
       "    </tr>\n",
       "    <tr>\n",
       "      <th>217</th>\n",
       "      <td>1700 Sq.Ft. Apartment For Sale In Dakshin Khan...</td>\n",
       "      <td>3</td>\n",
       "      <td>3</td>\n",
       "      <td>5</td>\n",
       "      <td>vacant</td>\n",
       "      <td>1700.0</td>\n",
       "      <td>dhaka</td>\n",
       "      <td>6.50</td>\n",
       "      <td>South Chalabon, Dakshin Khan</td>\n",
       "      <td>3823.529412</td>\n",
       "    </tr>\n",
       "    <tr>\n",
       "      <th>218</th>\n",
       "      <td>Flat For Sale Covering A Beautiful Area In Wes...</td>\n",
       "      <td>3</td>\n",
       "      <td>3</td>\n",
       "      <td>1</td>\n",
       "      <td>vacant</td>\n",
       "      <td>1400.0</td>\n",
       "      <td>dhaka</td>\n",
       "      <td>8.50</td>\n",
       "      <td>West Agargaon, Agargaon</td>\n",
       "      <td>6071.428571</td>\n",
       "    </tr>\n",
       "  </tbody>\n",
       "</table>\n",
       "</div>"
      ],
      "text/plain": [
       "                                                 Title  Bedrooms  Bathrooms  \\\n",
       "214  An Apartment For Sale Is All Set For You To Se...         3          3   \n",
       "215  A Flat With All Facilities Is Up For Sale At W...         3          2   \n",
       "216  1240 Square Feet Flat For Sale In The Location...         3          3   \n",
       "217  1700 Sq.Ft. Apartment For Sale In Dakshin Khan...         3          3   \n",
       "218  Flat For Sale Covering A Beautiful Area In Wes...         3          3   \n",
       "\n",
       "     Floor_no Occupancy_status  Floor_area   City  Price_in_taka(Mils)  \\\n",
       "214         8           vacant      1100.0  dhaka                 4.70   \n",
       "215         2           vacant      1220.0  dhaka                 5.00   \n",
       "216         5           vacant      1240.0  dhaka                 7.32   \n",
       "217         5           vacant      1700.0  dhaka                 6.50   \n",
       "218         1           vacant      1400.0  dhaka                 8.50   \n",
       "\n",
       "                         Location  price_per_sqft  \n",
       "214                         other     4272.727273  \n",
       "215       West Shewrapara, Mirpur     4098.360656  \n",
       "216             Section 1, Mirpur     5903.225806  \n",
       "217  South Chalabon, Dakshin Khan     3823.529412  \n",
       "218       West Agargaon, Agargaon     6071.428571  "
      ]
     },
     "execution_count": 1571,
     "metadata": {},
     "output_type": "execute_result"
    }
   ],
   "source": [
    "df1['price_per_sqft'] = df1['Price_in_taka(Mils)']*1000000/df1['Floor_area']\n",
    "df1.head()"
   ]
  },
  {
   "cell_type": "code",
   "execution_count": 1572,
   "id": "492454a3-da7b-4b6a-a7db-cb537e697b25",
   "metadata": {},
   "outputs": [
    {
     "data": {
      "text/html": [
       "<div>\n",
       "<style scoped>\n",
       "    .dataframe tbody tr th:only-of-type {\n",
       "        vertical-align: middle;\n",
       "    }\n",
       "\n",
       "    .dataframe tbody tr th {\n",
       "        vertical-align: top;\n",
       "    }\n",
       "\n",
       "    .dataframe thead th {\n",
       "        text-align: right;\n",
       "    }\n",
       "</style>\n",
       "<table border=\"1\" class=\"dataframe\">\n",
       "  <thead>\n",
       "    <tr style=\"text-align: right;\">\n",
       "      <th></th>\n",
       "      <th>Bedrooms</th>\n",
       "      <th>Bathrooms</th>\n",
       "      <th>Floor_no</th>\n",
       "      <th>Floor_area</th>\n",
       "      <th>Price_in_taka(Mils)</th>\n",
       "      <th>price_per_sqft</th>\n",
       "    </tr>\n",
       "  </thead>\n",
       "  <tbody>\n",
       "    <tr>\n",
       "      <th>count</th>\n",
       "      <td>2195.000000</td>\n",
       "      <td>2195.000000</td>\n",
       "      <td>2195.000000</td>\n",
       "      <td>2195.00000</td>\n",
       "      <td>2195.000000</td>\n",
       "      <td>2195.000000</td>\n",
       "    </tr>\n",
       "    <tr>\n",
       "      <th>mean</th>\n",
       "      <td>3.092938</td>\n",
       "      <td>2.982688</td>\n",
       "      <td>4.703872</td>\n",
       "      <td>1556.61139</td>\n",
       "      <td>11.839496</td>\n",
       "      <td>6707.435881</td>\n",
       "    </tr>\n",
       "    <tr>\n",
       "      <th>std</th>\n",
       "      <td>1.878371</td>\n",
       "      <td>0.995739</td>\n",
       "      <td>2.717437</td>\n",
       "      <td>1396.27863</td>\n",
       "      <td>22.995562</td>\n",
       "      <td>4023.260664</td>\n",
       "    </tr>\n",
       "    <tr>\n",
       "      <th>min</th>\n",
       "      <td>1.000000</td>\n",
       "      <td>1.000000</td>\n",
       "      <td>0.000000</td>\n",
       "      <td>200.00000</td>\n",
       "      <td>1.300000</td>\n",
       "      <td>2200.000000</td>\n",
       "    </tr>\n",
       "    <tr>\n",
       "      <th>25%</th>\n",
       "      <td>3.000000</td>\n",
       "      <td>3.000000</td>\n",
       "      <td>2.000000</td>\n",
       "      <td>1142.50000</td>\n",
       "      <td>5.334000</td>\n",
       "      <td>4500.000000</td>\n",
       "    </tr>\n",
       "    <tr>\n",
       "      <th>50%</th>\n",
       "      <td>3.000000</td>\n",
       "      <td>3.000000</td>\n",
       "      <td>5.000000</td>\n",
       "      <td>1350.00000</td>\n",
       "      <td>7.300000</td>\n",
       "      <td>5571.428571</td>\n",
       "    </tr>\n",
       "    <tr>\n",
       "      <th>75%</th>\n",
       "      <td>3.000000</td>\n",
       "      <td>3.000000</td>\n",
       "      <td>7.000000</td>\n",
       "      <td>1600.00000</td>\n",
       "      <td>11.014100</td>\n",
       "      <td>7336.391437</td>\n",
       "    </tr>\n",
       "    <tr>\n",
       "      <th>max</th>\n",
       "      <td>46.000000</td>\n",
       "      <td>10.000000</td>\n",
       "      <td>18.000000</td>\n",
       "      <td>24000.00000</td>\n",
       "      <td>363.200000</td>\n",
       "      <td>45000.000000</td>\n",
       "    </tr>\n",
       "  </tbody>\n",
       "</table>\n",
       "</div>"
      ],
      "text/plain": [
       "          Bedrooms    Bathrooms     Floor_no   Floor_area  \\\n",
       "count  2195.000000  2195.000000  2195.000000   2195.00000   \n",
       "mean      3.092938     2.982688     4.703872   1556.61139   \n",
       "std       1.878371     0.995739     2.717437   1396.27863   \n",
       "min       1.000000     1.000000     0.000000    200.00000   \n",
       "25%       3.000000     3.000000     2.000000   1142.50000   \n",
       "50%       3.000000     3.000000     5.000000   1350.00000   \n",
       "75%       3.000000     3.000000     7.000000   1600.00000   \n",
       "max      46.000000    10.000000    18.000000  24000.00000   \n",
       "\n",
       "       Price_in_taka(Mils)  price_per_sqft  \n",
       "count          2195.000000     2195.000000  \n",
       "mean             11.839496     6707.435881  \n",
       "std              22.995562     4023.260664  \n",
       "min               1.300000     2200.000000  \n",
       "25%               5.334000     4500.000000  \n",
       "50%               7.300000     5571.428571  \n",
       "75%              11.014100     7336.391437  \n",
       "max             363.200000    45000.000000  "
      ]
     },
     "execution_count": 1572,
     "metadata": {},
     "output_type": "execute_result"
    }
   ],
   "source": [
    "df1.describe()"
   ]
  },
  {
   "cell_type": "code",
   "execution_count": 1573,
   "id": "a140c796-4eaf-44b9-b713-2a014631de5a",
   "metadata": {},
   "outputs": [
    {
     "data": {
      "text/plain": [
       "Text(0, 0.5, 'Count')"
      ]
     },
     "execution_count": 1573,
     "metadata": {},
     "output_type": "execute_result"
    },
    {
     "data": {
      "image/png": "[encoded data removed]",
      "text/plain": [
       "<Figure size 2000x1000 with 1 Axes>"
      ]
     },
     "metadata": {},
     "output_type": "display_data"
    }
   ],
   "source": [
    "matplotlib.rcParams[\"figure.figsize\"] = (20,10)\n",
    "plt.hist(df1.price_per_sqft,rwidth=0.8)\n",
    "plt.xlabel(\"Price Per Square Feet\")\n",
    "plt.ylabel(\"Count\")"
   ]
  },
  {
   "cell_type": "code",
   "execution_count": 1574,
   "id": "52e8bcbb-5b5a-4c6e-a3be-47bb2698c758",
   "metadata": {},
   "outputs": [
    {
     "data": {
      "text/plain": [
       "(1667, 10)"
      ]
     },
     "execution_count": 1574,
     "metadata": {},
     "output_type": "execute_result"
    }
   ],
   "source": [
    "def remove_pps_outliers(df): # removing price per sqft outliers with one std\n",
    "    df_out = pd.DataFrame()\n",
    "    for key, subdf in df.groupby('Location'):\n",
    "        m = np.mean(subdf.price_per_sqft)\n",
    "        st = np.std(subdf.price_per_sqft)\n",
    "        reduced_df = subdf[(subdf.price_per_sqft>(m-st)) & (subdf.price_per_sqft<=(m+st))]\n",
    "        df_out = pd.concat([df_out,reduced_df],ignore_index=True)\n",
    "    return df_out\n",
    "df1 = remove_pps_outliers(df1)\n",
    "df1.shape"
   ]
  },
  {
   "cell_type": "markdown",
   "id": "3607db5e-fd45-4b45-bbe4-186e18f3d04f",
   "metadata": {},
   "source": [
    "## Correlation Matrix"
   ]
  },
  {
   "cell_type": "code",
   "execution_count": 1576,
   "id": "cc5584d5-7152-4b4c-8c9a-f987b4e38190",
   "metadata": {},
   "outputs": [
    {
     "data": {
      "application/vnd.plotly.v1+json": {
       "config": {
        "plotlyServerURL": "https://plot.ly"
       },
       "data": [
        {
         "colorscale": [
          [
           0,
           "rgb(103,0,31)"
          ],
          [
           0.1,
           "rgb(178,24,43)"
          ],
          [
           0.2,
           "rgb(214,96,77)"
          ],
          [
           0.3,
           "rgb(244,165,130)"
          ],
          [
           0.4,
           "rgb(253,219,199)"
          ],
          [
           0.5,
           "rgb(247,247,247)"
          ],
          [
           0.6,
           "rgb(209,229,240)"
          ],
          [
           0.7,
           "rgb(146,197,222)"
          ],
          [
           0.8,
           "rgb(67,147,195)"
          ],
          [
           0.9,
           "rgb(33,102,172)"
          ],
          [
           1,
           "rgb(5,48,97)"
          ]
         ],
         "hoverongaps": false,
         "text": [
          [
           1,
           0.71,
           0,
           0.85,
           0.7
          ],
          [
           0.71,
           1,
           0.1,
           0.73,
           0.64
          ],
          [
           0,
           0.1,
           1,
           0.03,
           0
          ],
          [
           0.85,
           0.73,
           0.03,
           1,
           0.91
          ],
          [
           0.7,
           0.64,
           0,
           0.91,
           1
          ]
         ],
         "textfont": {
          "size": 10
         },
         "texttemplate": "%{text}",
         "type": "heatmap",
         "x": [
          "Bedrooms",
          "Bathrooms",
          "Floor_no",
          "Floor_area",
          "Price_in_taka(Mils)"
         ],
         "y": [
          "Bedrooms",
          "Bathrooms",
          "Floor_no",
          "Floor_area",
          "Price_in_taka(Mils)"
         ],
         "z": [
          [
           1,
           0.708364996361027,
           -0.0008452042984242235,
           0.8489145755973301,
           0.7004487367286769
          ],
          [
           0.708364996361027,
           1,
           0.09883175966998875,
           0.7272061388260437,
           0.6360530486515117
          ],
          [
           -0.0008452042984242235,
           0.09883175966998875,
           1,
           0.029365087855657862,
           0.0017441018386019221
          ],
          [
           0.8489145755973301,
           0.7272061388260437,
           0.029365087855657862,
           1,
           0.9085412760543748
          ],
          [
           0.7004487367286769,
           0.6360530486515117,
           0.0017441018386019221,
           0.9085412760543748,
           1
          ]
         ],
         "zmax": 1,
         "zmin": -1
        }
       ],
       "layout": {
        "autosize": true,
        "template": {
         "data": {
          "bar": [
           {
            "error_x": {
             "color": "#2a3f5f"
            },
            "error_y": {
             "color": "#2a3f5f"
            },
            "marker": {
             "line": {
              "color": "#E5ECF6",
              "width": 0.5
             },
             "pattern": {
              "fillmode": "overlay",
              "size": 10,
              "solidity": 0.2
             }
            },
            "type": "bar"
           }
          ],
          "barpolar": [
           {
            "marker": {
             "line": {
              "color": "#E5ECF6",
              "width": 0.5
             },
             "pattern": {
              "fillmode": "overlay",
              "size": 10,
              "solidity": 0.2
             }
            },
            "type": "barpolar"
           }
          ],
          "carpet": [
           {
            "aaxis": {
             "endlinecolor": "#2a3f5f",
             "gridcolor": "white",
             "linecolor": "white",
             "minorgridcolor": "white",
             "startlinecolor": "#2a3f5f"
            },
            "baxis": {
             "endlinecolor": "#2a3f5f",
             "gridcolor": "white",
             "linecolor": "white",
             "minorgridcolor": "white",
             "startlinecolor": "#2a3f5f"
            },
            "type": "carpet"
           }
          ],
          "choropleth": [
           {
            "colorbar": {
             "outlinewidth": 0,
             "ticks": ""
            },
            "type": "choropleth"
           }
          ],
          "contour": [
           {
            "colorbar": {
             "outlinewidth": 0,
             "ticks": ""
            },
            "colorscale": [
             [
              0,
              "#0d0887"
             ],
             [
              0.1111111111111111,
              "#46039f"
             ],
             [
              0.2222222222222222,
              "#7201a8"
             ],
             [
              0.3333333333333333,
              "#9c179e"
             ],
             [
              0.4444444444444444,
              "#bd3786"
             ],
             [
              0.5555555555555556,
              "#d8576b"
             ],
             [
              0.6666666666666666,
              "#ed7953"
             ],
             [
              0.7777777777777778,
              "#fb9f3a"
             ],
             [
              0.8888888888888888,
              "#fdca26"
             ],
             [
              1,
              "#f0f921"
             ]
            ],
            "type": "contour"
           }
          ],
          "contourcarpet": [
           {
            "colorbar": {
             "outlinewidth": 0,
             "ticks": ""
            },
            "type": "contourcarpet"
           }
          ],
          "heatmap": [
           {
            "colorbar": {
             "outlinewidth": 0,
             "ticks": ""
            },
            "colorscale": [
             [
              0,
              "#0d0887"
             ],
             [
              0.1111111111111111,
              "#46039f"
             ],
             [
              0.2222222222222222,
              "#7201a8"
             ],
             [
              0.3333333333333333,
              "#9c179e"
             ],
             [
              0.4444444444444444,
              "#bd3786"
             ],
             [
              0.5555555555555556,
              "#d8576b"
             ],
             [
              0.6666666666666666,
              "#ed7953"
             ],
             [
              0.7777777777777778,
              "#fb9f3a"
             ],
             [
              0.8888888888888888,
              "#fdca26"
             ],
             [
              1,
              "#f0f921"
             ]
            ],
            "type": "heatmap"
           }
          ],
          "heatmapgl": [
           {
            "colorbar": {
             "outlinewidth": 0,
             "ticks": ""
            },
            "colorscale": [
             [
              0,
              "#0d0887"
             ],
             [
              0.1111111111111111,
              "#46039f"
             ],
             [
              0.2222222222222222,
              "#7201a8"
             ],
             [
              0.3333333333333333,
              "#9c179e"
             ],
             [
              0.4444444444444444,
              "#bd3786"
             ],
             [
              0.5555555555555556,
              "#d8576b"
             ],
             [
              0.6666666666666666,
              "#ed7953"
             ],
             [
              0.7777777777777778,
              "#fb9f3a"
             ],
             [
              0.8888888888888888,
              "#fdca26"
             ],
             [
              1,
              "#f0f921"
             ]
            ],
            "type": "heatmapgl"
           }
          ],
          "histogram": [
           {
            "marker": {
             "pattern": {
              "fillmode": "overlay",
              "size": 10,
              "solidity": 0.2
             }
            },
            "type": "histogram"
           }
          ],
          "histogram2d": [
           {
            "colorbar": {
             "outlinewidth": 0,
             "ticks": ""
            },
            "colorscale": [
             [
              0,
              "#0d0887"
             ],
             [
              0.1111111111111111,
              "#46039f"
             ],
             [
              0.2222222222222222,
              "#7201a8"
             ],
             [
              0.3333333333333333,
              "#9c179e"
             ],
             [
              0.4444444444444444,
              "#bd3786"
             ],
             [
              0.5555555555555556,
              "#d8576b"
             ],
             [
              0.6666666666666666,
              "#ed7953"
             ],
             [
              0.7777777777777778,
              "#fb9f3a"
             ],
             [
              0.8888888888888888,
              "#fdca26"
             ],
             [
              1,
              "#f0f921"
             ]
            ],
            "type": "histogram2d"
           }
          ],
          "histogram2dcontour": [
           {
            "colorbar": {
             "outlinewidth": 0,
             "ticks": ""
            },
            "colorscale": [
             [
              0,
              "#0d0887"
             ],
             [
              0.1111111111111111,
              "#46039f"
             ],
             [
              0.2222222222222222,
              "#7201a8"
             ],
             [
              0.3333333333333333,
              "#9c179e"
             ],
             [
              0.4444444444444444,
              "#bd3786"
             ],
             [
              0.5555555555555556,
              "#d8576b"
             ],
             [
              0.6666666666666666,
              "#ed7953"
             ],
             [
              0.7777777777777778,
              "#fb9f3a"
             ],
             [
              0.8888888888888888,
              "#fdca26"
             ],
             [
              1,
              "#f0f921"
             ]
            ],
            "type": "histogram2dcontour"
           }
          ],
          "mesh3d": [
           {
            "colorbar": {
             "outlinewidth": 0,
             "ticks": ""
            },
            "type": "mesh3d"
           }
          ],
          "parcoords": [
           {
            "line": {
             "colorbar": {
              "outlinewidth": 0,
              "ticks": ""
             }
            },
            "type": "parcoords"
           }
          ],
          "pie": [
           {
            "automargin": true,
            "type": "pie"
           }
          ],
          "scatter": [
           {
            "fillpattern": {
             "fillmode": "overlay",
             "size": 10,
             "solidity": 0.2
            },
            "type": "scatter"
           }
          ],
          "scatter3d": [
           {
            "line": {
             "colorbar": {
              "outlinewidth": 0,
              "ticks": ""
             }
            },
            "marker": {
             "colorbar": {
              "outlinewidth": 0,
              "ticks": ""
             }
            },
            "type": "scatter3d"
           }
          ],
          "scattercarpet": [
           {
            "marker": {
             "colorbar": {
              "outlinewidth": 0,
              "ticks": ""
             }
            },
            "type": "scattercarpet"
           }
          ],
          "scattergeo": [
           {
            "marker": {
             "colorbar": {
              "outlinewidth": 0,
              "ticks": ""
             }
            },
            "type": "scattergeo"
           }
          ],
          "scattergl": [
           {
            "marker": {
             "colorbar": {
              "outlinewidth": 0,
              "ticks": ""
             }
            },
            "type": "scattergl"
           }
          ],
          "scattermapbox": [
           {
            "marker": {
             "colorbar": {
              "outlinewidth": 0,
              "ticks": ""
             }
            },
            "type": "scattermapbox"
           }
          ],
          "scatterpolar": [
           {
            "marker": {
             "colorbar": {
              "outlinewidth": 0,
              "ticks": ""
             }
            },
            "type": "scatterpolar"
           }
          ],
          "scatterpolargl": [
           {
            "marker": {
             "colorbar": {
              "outlinewidth": 0,
              "ticks": ""
             }
            },
            "type": "scatterpolargl"
           }
          ],
          "scatterternary": [
           {
            "marker": {
             "colorbar": {
              "outlinewidth": 0,
              "ticks": ""
             }
            },
            "type": "scatterternary"
           }
          ],
          "surface": [
           {
            "colorbar": {
             "outlinewidth": 0,
             "ticks": ""
            },
            "colorscale": [
             [
              0,
              "#0d0887"
             ],
             [
              0.1111111111111111,
              "#46039f"
             ],
             [
              0.2222222222222222,
              "#7201a8"
             ],
             [
              0.3333333333333333,
              "#9c179e"
             ],
             [
              0.4444444444444444,
              "#bd3786"
             ],
             [
              0.5555555555555556,
              "#d8576b"
             ],
             [
              0.6666666666666666,
              "#ed7953"
             ],
             [
              0.7777777777777778,
              "#fb9f3a"
             ],
             [
              0.8888888888888888,
              "#fdca26"
             ],
             [
              1,
              "#f0f921"
             ]
            ],
            "type": "surface"
           }
          ],
          "table": [
           {
            "cells": {
             "fill": {
              "color": "#EBF0F8"
             },
             "line": {
              "color": "white"
             }
            },
            "header": {
             "fill": {
              "color": "#C8D4E3"
             },
             "line": {
              "color": "white"
             }
            },
            "type": "table"
           }
          ]
         },
         "layout": {
          "annotationdefaults": {
           "arrowcolor": "#2a3f5f",
           "arrowhead": 0,
           "arrowwidth": 1
          },
          "autotypenumbers": "strict",
          "coloraxis": {
           "colorbar": {
            "outlinewidth": 0,
            "ticks": ""
           }
          },
          "colorscale": {
           "diverging": [
            [
             0,
             "#8e0152"
            ],
            [
             0.1,
             "#c51b7d"
            ],
            [
             0.2,
             "#de77ae"
            ],
            [
             0.3,
             "#f1b6da"
            ],
            [
             0.4,
             "#fde0ef"
            ],
            [
             0.5,
             "#f7f7f7"
            ],
            [
             0.6,
             "#e6f5d0"
            ],
            [
             0.7,
             "#b8e186"
            ],
            [
             0.8,
             "#7fbc41"
            ],
            [
             0.9,
             "#4d9221"
            ],
            [
             1,
             "#276419"
            ]
           ],
           "sequential": [
            [
             0,
             "#0d0887"
            ],
            [
             0.1111111111111111,
             "#46039f"
            ],
            [
             0.2222222222222222,
             "#7201a8"
            ],
            [
             0.3333333333333333,
             "#9c179e"
            ],
            [
             0.4444444444444444,
             "#bd3786"
            ],
            [
             0.5555555555555556,
             "#d8576b"
            ],
            [
             0.6666666666666666,
             "#ed7953"
            ],
            [
             0.7777777777777778,
             "#fb9f3a"
            ],
            [
             0.8888888888888888,
             "#fdca26"
            ],
            [
             1,
             "#f0f921"
            ]
           ],
           "sequentialminus": [
            [
             0,
             "#0d0887"
            ],
            [
             0.1111111111111111,
             "#46039f"
            ],
            [
             0.2222222222222222,
             "#7201a8"
            ],
            [
             0.3333333333333333,
             "#9c179e"
            ],
            [
             0.4444444444444444,
             "#bd3786"
            ],
            [
             0.5555555555555556,
             "#d8576b"
            ],
            [
             0.6666666666666666,
             "#ed7953"
            ],
            [
             0.7777777777777778,
             "#fb9f3a"
            ],
            [
             0.8888888888888888,
             "#fdca26"
            ],
            [
             1,
             "#f0f921"
            ]
           ]
          },
          "colorway": [
           "#636efa",
           "#EF553B",
           "#00cc96",
           "#ab63fa",
           "#FFA15A",
           "#19d3f3",
           "#FF6692",
           "#B6E880",
           "#FF97FF",
           "#FECB52"
          ],
          "font": {
           "color": "#2a3f5f"
          },
          "geo": {
           "bgcolor": "white",
           "lakecolor": "white",
           "landcolor": "#E5ECF6",
           "showlakes": true,
           "showland": true,
           "subunitcolor": "white"
          },
          "hoverlabel": {
           "align": "left"
          },
          "hovermode": "closest",
          "mapbox": {
           "style": "light"
          },
          "paper_bgcolor": "white",
          "plot_bgcolor": "#E5ECF6",
          "polar": {
           "angularaxis": {
            "gridcolor": "white",
            "linecolor": "white",
            "ticks": ""
           },
           "bgcolor": "#E5ECF6",
           "radialaxis": {
            "gridcolor": "white",
            "linecolor": "white",
            "ticks": ""
           }
          },
          "scene": {
           "xaxis": {
            "backgroundcolor": "#E5ECF6",
            "gridcolor": "white",
            "gridwidth": 2,
            "linecolor": "white",
            "showbackground": true,
            "ticks": "",
            "zerolinecolor": "white"
           },
           "yaxis": {
            "backgroundcolor": "#E5ECF6",
            "gridcolor": "white",
            "gridwidth": 2,
            "linecolor": "white",
            "showbackground": true,
            "ticks": "",
            "zerolinecolor": "white"
           },
           "zaxis": {
            "backgroundcolor": "#E5ECF6",
            "gridcolor": "white",
            "gridwidth": 2,
            "linecolor": "white",
            "showbackground": true,
            "ticks": "",
            "zerolinecolor": "white"
           }
          },
          "shapedefaults": {
           "line": {
            "color": "#2a3f5f"
           }
          },
          "ternary": {
           "aaxis": {
            "gridcolor": "white",
            "linecolor": "white",
            "ticks": ""
           },
           "baxis": {
            "gridcolor": "white",
            "linecolor": "white",
            "ticks": ""
           },
           "bgcolor": "#E5ECF6",
           "caxis": {
            "gridcolor": "white",
            "linecolor": "white",
            "ticks": ""
           }
          },
          "title": {
           "x": 0.05
          },
          "xaxis": {
           "automargin": true,
           "gridcolor": "white",
           "linecolor": "white",
           "ticks": "",
           "title": {
            "standoff": 15
           },
           "zerolinecolor": "white",
           "zerolinewidth": 2
          },
          "yaxis": {
           "automargin": true,
           "gridcolor": "white",
           "linecolor": "white",
           "ticks": "",
           "title": {
            "standoff": 15
           },
           "zerolinecolor": "white",
           "zerolinewidth": 2
          }
         }
        },
        "title": {
         "text": "Correlation Matrix of Numeric Features"
        },
        "xaxis": {
         "autorange": true,
         "range": [
          -0.5,
          4.5
         ],
         "showgrid": false,
         "side": "top",
         "type": "category"
        },
        "yaxis": {
         "autorange": true,
         "range": [
          -0.5,
          4.5
         ],
         "showgrid": false,
         "type": "category"
        }
       }
      },
      "text/html": [
       "<div>                            <div id=\"922981ed-a697-4eb4-815a-c26d15fadc08\" class=\"plotly-graph-div\" style=\"height:525px; width:100%;\"></div>            <script type=\"text/javascript\">                require([\"plotly\"], function(Plotly) {                    window.PLOTLYENV=window.PLOTLYENV || {};                                    if (document.getElementById(\"922981ed-a697-4eb4-815a-c26d15fadc08\")) {                    Plotly.newPlot(                        \"922981ed-a697-4eb4-815a-c26d15fadc08\",                        [{\"colorscale\":[[0.0,\"rgb(103,0,31)\"],[0.1,\"rgb(178,24,43)\"],[0.2,\"rgb(214,96,77)\"],[0.3,\"rgb(244,165,130)\"],[0.4,\"rgb(253,219,199)\"],[0.5,\"rgb(247,247,247)\"],[0.6,\"rgb(209,229,240)\"],[0.7,\"rgb(146,197,222)\"],[0.8,\"rgb(67,147,195)\"],[0.9,\"rgb(33,102,172)\"],[1.0,\"rgb(5,48,97)\"]],\"hoverongaps\":false,\"text\":[[1.0,0.71,-0.0,0.85,0.7],[0.71,1.0,0.1,0.73,0.64],[-0.0,0.1,1.0,0.03,0.0],[0.85,0.73,0.03,1.0,0.91],[0.7,0.64,0.0,0.91,1.0]],\"textfont\":{\"size\":10},\"texttemplate\":\"%{text}\",\"x\":[\"Bedrooms\",\"Bathrooms\",\"Floor_no\",\"Floor_area\",\"Price_in_taka(Mils)\"],\"y\":[\"Bedrooms\",\"Bathrooms\",\"Floor_no\",\"Floor_area\",\"Price_in_taka(Mils)\"],\"z\":[[1.0,0.708364996361027,-0.0008452042984242235,0.8489145755973301,0.7004487367286769],[0.708364996361027,1.0,0.09883175966998875,0.7272061388260437,0.6360530486515117],[-0.0008452042984242235,0.09883175966998875,1.0,0.029365087855657862,0.0017441018386019221],[0.8489145755973301,0.7272061388260437,0.029365087855657862,1.0,0.9085412760543748],[0.7004487367286769,0.6360530486515117,0.0017441018386019221,0.9085412760543748,1.0]],\"zmax\":1,\"zmin\":-1,\"type\":\"heatmap\"}],                        {\"template\":{\"data\":{\"histogram2dcontour\":[{\"type\":\"histogram2dcontour\",\"colorbar\":{\"outlinewidth\":0,\"ticks\":\"\"},\"colorscale\":[[0.0,\"#0d0887\"],[0.1111111111111111,\"#46039f\"],[0.2222222222222222,\"#7201a8\"],[0.3333333333333333,\"#9c179e\"],[0.4444444444444444,\"#bd3786\"],[0.5555555555555556,\"#d8576b\"],[0.6666666666666666,\"#ed7953\"],[0.7777777777777778,\"#fb9f3a\"],[0.8888888888888888,\"#fdca26\"],[1.0,\"#f0f921\"]]}],\"choropleth\":[{\"type\":\"choropleth\",\"colorbar\":{\"outlinewidth\":0,\"ticks\":\"\"}}],\"histogram2d\":[{\"type\":\"histogram2d\",\"colorbar\":{\"outlinewidth\":0,\"ticks\":\"\"},\"colorscale\":[[0.0,\"#0d0887\"],[0.1111111111111111,\"#46039f\"],[0.2222222222222222,\"#7201a8\"],[0.3333333333333333,\"#9c179e\"],[0.4444444444444444,\"#bd3786\"],[0.5555555555555556,\"#d8576b\"],[0.6666666666666666,\"#ed7953\"],[0.7777777777777778,\"#fb9f3a\"],[0.8888888888888888,\"#fdca26\"],[1.0,\"#f0f921\"]]}],\"heatmap\":[{\"type\":\"heatmap\",\"colorbar\":{\"outlinewidth\":0,\"ticks\":\"\"},\"colorscale\":[[0.0,\"#0d0887\"],[0.1111111111111111,\"#46039f\"],[0.2222222222222222,\"#7201a8\"],[0.3333333333333333,\"#9c179e\"],[0.4444444444444444,\"#bd3786\"],[0.5555555555555556,\"#d8576b\"],[0.6666666666666666,\"#ed7953\"],[0.7777777777777778,\"#fb9f3a\"],[0.8888888888888888,\"#fdca26\"],[1.0,\"#f0f921\"]]}],\"heatmapgl\":[{\"type\":\"heatmapgl\",\"colorbar\":{\"outlinewidth\":0,\"ticks\":\"\"},\"colorscale\":[[0.0,\"#0d0887\"],[0.1111111111111111,\"#46039f\"],[0.2222222222222222,\"#7201a8\"],[0.3333333333333333,\"#9c179e\"],[0.4444444444444444,\"#bd3786\"],[0.5555555555555556,\"#d8576b\"],[0.6666666666666666,\"#ed7953\"],[0.7777777777777778,\"#fb9f3a\"],[0.8888888888888888,\"#fdca26\"],[1.0,\"#f0f921\"]]}],\"contourcarpet\":[{\"type\":\"contourcarpet\",\"colorbar\":{\"outlinewidth\":0,\"ticks\":\"\"}}],\"contour\":[{\"type\":\"contour\",\"colorbar\":{\"outlinewidth\":0,\"ticks\":\"\"},\"colorscale\":[[0.0,\"#0d0887\"],[0.1111111111111111,\"#46039f\"],[0.2222222222222222,\"#7201a8\"],[0.3333333333333333,\"#9c179e\"],[0.4444444444444444,\"#bd3786\"],[0.5555555555555556,\"#d8576b\"],[0.6666666666666666,\"#ed7953\"],[0.7777777777777778,\"#fb9f3a\"],[0.8888888888888888,\"#fdca26\"],[1.0,\"#f0f921\"]]}],\"surface\":[{\"type\":\"surface\",\"colorbar\":{\"outlinewidth\":0,\"ticks\":\"\"},\"colorscale\":[[0.0,\"#0d0887\"],[0.1111111111111111,\"#46039f\"],[0.2222222222222222,\"#7201a8\"],[0.3333333333333333,\"#9c179e\"],[0.4444444444444444,\"#bd3786\"],[0.5555555555555556,\"#d8576b\"],[0.6666666666666666,\"#ed7953\"],[0.7777777777777778,\"#fb9f3a\"],[0.8888888888888888,\"#fdca26\"],[1.0,\"#f0f921\"]]}],\"mesh3d\":[{\"type\":\"mesh3d\",\"colorbar\":{\"outlinewidth\":0,\"ticks\":\"\"}}],\"scatter\":[{\"fillpattern\":{\"fillmode\":\"overlay\",\"size\":10,\"solidity\":0.2},\"type\":\"scatter\"}],\"parcoords\":[{\"type\":\"parcoords\",\"line\":{\"colorbar\":{\"outlinewidth\":0,\"ticks\":\"\"}}}],\"scatterpolargl\":[{\"type\":\"scatterpolargl\",\"marker\":{\"colorbar\":{\"outlinewidth\":0,\"ticks\":\"\"}}}],\"bar\":[{\"error_x\":{\"color\":\"#2a3f5f\"},\"error_y\":{\"color\":\"#2a3f5f\"},\"marker\":{\"line\":{\"color\":\"#E5ECF6\",\"width\":0.5},\"pattern\":{\"fillmode\":\"overlay\",\"size\":10,\"solidity\":0.2}},\"type\":\"bar\"}],\"scattergeo\":[{\"type\":\"scattergeo\",\"marker\":{\"colorbar\":{\"outlinewidth\":0,\"ticks\":\"\"}}}],\"scatterpolar\":[{\"type\":\"scatterpolar\",\"marker\":{\"colorbar\":{\"outlinewidth\":0,\"ticks\":\"\"}}}],\"histogram\":[{\"marker\":{\"pattern\":{\"fillmode\":\"overlay\",\"size\":10,\"solidity\":0.2}},\"type\":\"histogram\"}],\"scattergl\":[{\"type\":\"scattergl\",\"marker\":{\"colorbar\":{\"outlinewidth\":0,\"ticks\":\"\"}}}],\"scatter3d\":[{\"type\":\"scatter3d\",\"line\":{\"colorbar\":{\"outlinewidth\":0,\"ticks\":\"\"}},\"marker\":{\"colorbar\":{\"outlinewidth\":0,\"ticks\":\"\"}}}],\"scattermapbox\":[{\"type\":\"scattermapbox\",\"marker\":{\"colorbar\":{\"outlinewidth\":0,\"ticks\":\"\"}}}],\"scatterternary\":[{\"type\":\"scatterternary\",\"marker\":{\"colorbar\":{\"outlinewidth\":0,\"ticks\":\"\"}}}],\"scattercarpet\":[{\"type\":\"scattercarpet\",\"marker\":{\"colorbar\":{\"outlinewidth\":0,\"ticks\":\"\"}}}],\"carpet\":[{\"aaxis\":{\"endlinecolor\":\"#2a3f5f\",\"gridcolor\":\"white\",\"linecolor\":\"white\",\"minorgridcolor\":\"white\",\"startlinecolor\":\"#2a3f5f\"},\"baxis\":{\"endlinecolor\":\"#2a3f5f\",\"gridcolor\":\"white\",\"linecolor\":\"white\",\"minorgridcolor\":\"white\",\"startlinecolor\":\"#2a3f5f\"},\"type\":\"carpet\"}],\"table\":[{\"cells\":{\"fill\":{\"color\":\"#EBF0F8\"},\"line\":{\"color\":\"white\"}},\"header\":{\"fill\":{\"color\":\"#C8D4E3\"},\"line\":{\"color\":\"white\"}},\"type\":\"table\"}],\"barpolar\":[{\"marker\":{\"line\":{\"color\":\"#E5ECF6\",\"width\":0.5},\"pattern\":{\"fillmode\":\"overlay\",\"size\":10,\"solidity\":0.2}},\"type\":\"barpolar\"}],\"pie\":[{\"automargin\":true,\"type\":\"pie\"}]},\"layout\":{\"autotypenumbers\":\"strict\",\"colorway\":[\"#636efa\",\"#EF553B\",\"#00cc96\",\"#ab63fa\",\"#FFA15A\",\"#19d3f3\",\"#FF6692\",\"#B6E880\",\"#FF97FF\",\"#FECB52\"],\"font\":{\"color\":\"#2a3f5f\"},\"hovermode\":\"closest\",\"hoverlabel\":{\"align\":\"left\"},\"paper_bgcolor\":\"white\",\"plot_bgcolor\":\"#E5ECF6\",\"polar\":{\"bgcolor\":\"#E5ECF6\",\"angularaxis\":{\"gridcolor\":\"white\",\"linecolor\":\"white\",\"ticks\":\"\"},\"radialaxis\":{\"gridcolor\":\"white\",\"linecolor\":\"white\",\"ticks\":\"\"}},\"ternary\":{\"bgcolor\":\"#E5ECF6\",\"aaxis\":{\"gridcolor\":\"white\",\"linecolor\":\"white\",\"ticks\":\"\"},\"baxis\":{\"gridcolor\":\"white\",\"linecolor\":\"white\",\"ticks\":\"\"},\"caxis\":{\"gridcolor\":\"white\",\"linecolor\":\"white\",\"ticks\":\"\"}},\"coloraxis\":{\"colorbar\":{\"outlinewidth\":0,\"ticks\":\"\"}},\"colorscale\":{\"sequential\":[[0.0,\"#0d0887\"],[0.1111111111111111,\"#46039f\"],[0.2222222222222222,\"#7201a8\"],[0.3333333333333333,\"#9c179e\"],[0.4444444444444444,\"#bd3786\"],[0.5555555555555556,\"#d8576b\"],[0.6666666666666666,\"#ed7953\"],[0.7777777777777778,\"#fb9f3a\"],[0.8888888888888888,\"#fdca26\"],[1.0,\"#f0f921\"]],\"sequentialminus\":[[0.0,\"#0d0887\"],[0.1111111111111111,\"#46039f\"],[0.2222222222222222,\"#7201a8\"],[0.3333333333333333,\"#9c179e\"],[0.4444444444444444,\"#bd3786\"],[0.5555555555555556,\"#d8576b\"],[0.6666666666666666,\"#ed7953\"],[0.7777777777777778,\"#fb9f3a\"],[0.8888888888888888,\"#fdca26\"],[1.0,\"#f0f921\"]],\"diverging\":[[0,\"#8e0152\"],[0.1,\"#c51b7d\"],[0.2,\"#de77ae\"],[0.3,\"#f1b6da\"],[0.4,\"#fde0ef\"],[0.5,\"#f7f7f7\"],[0.6,\"#e6f5d0\"],[0.7,\"#b8e186\"],[0.8,\"#7fbc41\"],[0.9,\"#4d9221\"],[1,\"#276419\"]]},\"xaxis\":{\"gridcolor\":\"white\",\"linecolor\":\"white\",\"ticks\":\"\",\"title\":{\"standoff\":15},\"zerolinecolor\":\"white\",\"automargin\":true,\"zerolinewidth\":2},\"yaxis\":{\"gridcolor\":\"white\",\"linecolor\":\"white\",\"ticks\":\"\",\"title\":{\"standoff\":15},\"zerolinecolor\":\"white\",\"automargin\":true,\"zerolinewidth\":2},\"scene\":{\"xaxis\":{\"backgroundcolor\":\"#E5ECF6\",\"gridcolor\":\"white\",\"linecolor\":\"white\",\"showbackground\":true,\"ticks\":\"\",\"zerolinecolor\":\"white\",\"gridwidth\":2},\"yaxis\":{\"backgroundcolor\":\"#E5ECF6\",\"gridcolor\":\"white\",\"linecolor\":\"white\",\"showbackground\":true,\"ticks\":\"\",\"zerolinecolor\":\"white\",\"gridwidth\":2},\"zaxis\":{\"backgroundcolor\":\"#E5ECF6\",\"gridcolor\":\"white\",\"linecolor\":\"white\",\"showbackground\":true,\"ticks\":\"\",\"zerolinecolor\":\"white\",\"gridwidth\":2}},\"shapedefaults\":{\"line\":{\"color\":\"#2a3f5f\"}},\"annotationdefaults\":{\"arrowcolor\":\"#2a3f5f\",\"arrowhead\":0,\"arrowwidth\":1},\"geo\":{\"bgcolor\":\"white\",\"landcolor\":\"#E5ECF6\",\"subunitcolor\":\"white\",\"showland\":true,\"showlakes\":true,\"lakecolor\":\"white\"},\"title\":{\"x\":0.05},\"mapbox\":{\"style\":\"light\"}}},\"xaxis\":{\"showgrid\":false,\"side\":\"top\"},\"yaxis\":{\"showgrid\":false},\"title\":{\"text\":\"Correlation Matrix of Numeric Features\"}},                        {\"responsive\": true}                    ).then(function(){\n",
       "                            \n",
       "var gd = document.getElementById('922981ed-a697-4eb4-815a-c26d15fadc08');\n",
       "var x = new MutationObserver(function (mutations, observer) {{\n",
       "        var display = window.getComputedStyle(gd).display;\n",
       "        if (!display || display === 'none') {{\n",
       "            console.log([gd, 'removed!']);\n",
       "            Plotly.purge(gd);\n",
       "            observer.disconnect();\n",
       "        }}\n",
       "}});\n",
       "\n",
       "// Listen for the removal of the full notebook cells\n",
       "var notebookContainer = gd.closest('#notebook-container');\n",
       "if (notebookContainer) {{\n",
       "    x.observe(notebookContainer, {childList: true});\n",
       "}}\n",
       "\n",
       "// Listen for the clearing of the current output cell\n",
       "var outputEl = gd.closest('.output');\n",
       "if (outputEl) {{\n",
       "    x.observe(outputEl, {childList: true});\n",
       "}}\n",
       "\n",
       "                        })                };                });            </script>        </div>"
      ]
     },
     "metadata": {},
     "output_type": "display_data"
    }
   ],
   "source": [
    "import plotly.graph_objects as go\n",
    "# Select numerical columns for correlation\n",
    "numeric_cols = ['Bedrooms', 'Bathrooms', 'Floor_no', 'Floor_area', 'Price_in_taka(Mils)']\n",
    "\n",
    "# Calculate the correlation matrix\n",
    "corr_matrix = df1[numeric_cols].corr()\n",
    "\n",
    "# Create the heatmap\n",
    "fig = go.Figure(data=go.Heatmap(\n",
    "                z=corr_matrix.values,\n",
    "                x=corr_matrix.columns,\n",
    "                y=corr_matrix.columns,\n",
    "                colorscale='RdBu',\n",
    "                zmin=-1, zmax=1,\n",
    "                text=np.round(corr_matrix.values, decimals=2),\n",
    "                texttemplate=\"%{text}\",\n",
    "                textfont={\"size\":10},\n",
    "                hoverongaps = False))\n",
    "\n",
    "# Update the layout\n",
    "fig.update_layout(\n",
    "    title='Correlation Matrix of Numeric Features',\n",
    "    xaxis_showgrid=False,\n",
    "    yaxis_showgrid=False,\n",
    "    xaxis_side='top'\n",
    ")\n",
    "\n",
    "# Show the plot\n",
    "fig.show()"
   ]
  },
  {
   "cell_type": "markdown",
   "id": "ec87e523-8ba1-4034-bb29-1e2d5a682847",
   "metadata": {},
   "source": [
    "## Checking Outliers"
   ]
  },
  {
   "cell_type": "code",
   "execution_count": 1578,
   "id": "1efb8af7-c53b-4324-b157-5d760a9aa726",
   "metadata": {},
   "outputs": [
    {
     "data": {
      "image/png": "[encoded data removed]",
      "text/plain": [
       "<Figure size 1600x1000 with 5 Axes>"
      ]
     },
     "metadata": {},
     "output_type": "display_data"
    }
   ],
   "source": [
    "# To identify the outliers using boxplot\n",
    "columns = ['Bedrooms', 'Bathrooms', 'Floor_no', 'Floor_area', 'Price_in_taka(Mils)']\n",
    "plt.figure(figsize=(16, 10))\n",
    "for i, col in enumerate(columns):\n",
    "    plt.subplot(2, 3, i+1)\n",
    "    sns.boxplot(x = col, data = df1)\n",
    "plt.show()"
   ]
  },
  {
   "cell_type": "markdown",
   "id": "5ce588b5-39fb-4d3c-b7c2-e2c163f69b77",
   "metadata": {},
   "source": [
    "## One Hot Encoding"
   ]
  },
  {
   "cell_type": "code",
   "execution_count": 1580,
   "id": "f37ba1a4-189c-4cd9-a9d1-be4a6fb33596",
   "metadata": {},
   "outputs": [],
   "source": [
    "from sklearn.preprocessing import OneHotEncoder\n",
    "# One Hot Encoding\n",
    "df1 = pd.get_dummies(df1, columns=['City', 'Location'], drop_first=True)\n",
    "\n",
    "# Convert all columns to int\n",
    "for col in df1.columns:\n",
    "    if df1[col].dtype == bool:\n",
    "        df1[col] = df1[col].astype(int)"
   ]
  },
  {
   "cell_type": "code",
   "execution_count": 1581,
   "id": "bad86527-b19e-4365-9793-5e9e21873a91",
   "metadata": {},
   "outputs": [
    {
     "data": {
      "text/html": [
       "<div>\n",
       "<style scoped>\n",
       "    .dataframe tbody tr th:only-of-type {\n",
       "        vertical-align: middle;\n",
       "    }\n",
       "\n",
       "    .dataframe tbody tr th {\n",
       "        vertical-align: top;\n",
       "    }\n",
       "\n",
       "    .dataframe thead th {\n",
       "        text-align: right;\n",
       "    }\n",
       "</style>\n",
       "<table border=\"1\" class=\"dataframe\">\n",
       "  <thead>\n",
       "    <tr style=\"text-align: right;\">\n",
       "      <th></th>\n",
       "      <th>Title</th>\n",
       "      <th>Bedrooms</th>\n",
       "      <th>Bathrooms</th>\n",
       "      <th>Floor_no</th>\n",
       "      <th>Occupancy_status</th>\n",
       "      <th>Floor_area</th>\n",
       "      <th>Price_in_taka(Mils)</th>\n",
       "      <th>price_per_sqft</th>\n",
       "      <th>City_cumilla</th>\n",
       "      <th>City_dhaka</th>\n",
       "      <th>...</th>\n",
       "      <th>Location_West Kazipara, Mirpur</th>\n",
       "      <th>Location_West Khulshi R/A, 9 No. North Pahartali Ward</th>\n",
       "      <th>Location_West Khulshi, 9 No. North Pahartali Ward</th>\n",
       "      <th>Location_West Monipur, Mirpur</th>\n",
       "      <th>Location_West Rampura, Rampura</th>\n",
       "      <th>Location_West Shewrapara, Mirpur</th>\n",
       "      <th>Location_Yakub Future Park Housing, Khulshi</th>\n",
       "      <th>Location_Yakub Nagar Road, 33 No. Firingee Bazaar Ward</th>\n",
       "      <th>Location_Zakir Hossain Road, Khulshi</th>\n",
       "      <th>Location_other</th>\n",
       "    </tr>\n",
       "  </thead>\n",
       "  <tbody>\n",
       "    <tr>\n",
       "      <th>0</th>\n",
       "      <td>See This Flat Of 1000 Sq Ft As Your Dream Home...</td>\n",
       "      <td>3</td>\n",
       "      <td>3</td>\n",
       "      <td>3</td>\n",
       "      <td>vacant</td>\n",
       "      <td>1000.0</td>\n",
       "      <td>4.0</td>\n",
       "      <td>4000.0</td>\n",
       "      <td>0</td>\n",
       "      <td>0</td>\n",
       "      <td>...</td>\n",
       "      <td>0</td>\n",
       "      <td>0</td>\n",
       "      <td>0</td>\n",
       "      <td>0</td>\n",
       "      <td>0</td>\n",
       "      <td>0</td>\n",
       "      <td>0</td>\n",
       "      <td>0</td>\n",
       "      <td>0</td>\n",
       "      <td>0</td>\n",
       "    </tr>\n",
       "    <tr>\n",
       "      <th>1</th>\n",
       "      <td>1150 Square Feet And 2 Bedroom Flat Is For Sal...</td>\n",
       "      <td>2</td>\n",
       "      <td>2</td>\n",
       "      <td>4</td>\n",
       "      <td>vacant</td>\n",
       "      <td>1150.0</td>\n",
       "      <td>4.6</td>\n",
       "      <td>4000.0</td>\n",
       "      <td>0</td>\n",
       "      <td>0</td>\n",
       "      <td>...</td>\n",
       "      <td>0</td>\n",
       "      <td>0</td>\n",
       "      <td>0</td>\n",
       "      <td>0</td>\n",
       "      <td>0</td>\n",
       "      <td>0</td>\n",
       "      <td>0</td>\n",
       "      <td>0</td>\n",
       "      <td>0</td>\n",
       "      <td>0</td>\n",
       "    </tr>\n",
       "    <tr>\n",
       "      <th>2</th>\n",
       "      <td>Check This Fine Looking Flat Of 1150 Sq Ft Off...</td>\n",
       "      <td>2</td>\n",
       "      <td>2</td>\n",
       "      <td>4</td>\n",
       "      <td>vacant</td>\n",
       "      <td>1150.0</td>\n",
       "      <td>4.6</td>\n",
       "      <td>4000.0</td>\n",
       "      <td>0</td>\n",
       "      <td>0</td>\n",
       "      <td>...</td>\n",
       "      <td>0</td>\n",
       "      <td>0</td>\n",
       "      <td>0</td>\n",
       "      <td>0</td>\n",
       "      <td>0</td>\n",
       "      <td>0</td>\n",
       "      <td>0</td>\n",
       "      <td>0</td>\n",
       "      <td>0</td>\n",
       "      <td>0</td>\n",
       "    </tr>\n",
       "    <tr>\n",
       "      <th>3</th>\n",
       "      <td>Visit This 1050 Sq.ft Flat is For Sale At Paha...</td>\n",
       "      <td>2</td>\n",
       "      <td>2</td>\n",
       "      <td>5</td>\n",
       "      <td>vacant</td>\n",
       "      <td>1050.0</td>\n",
       "      <td>4.2</td>\n",
       "      <td>4000.0</td>\n",
       "      <td>0</td>\n",
       "      <td>0</td>\n",
       "      <td>...</td>\n",
       "      <td>0</td>\n",
       "      <td>0</td>\n",
       "      <td>0</td>\n",
       "      <td>0</td>\n",
       "      <td>0</td>\n",
       "      <td>0</td>\n",
       "      <td>0</td>\n",
       "      <td>0</td>\n",
       "      <td>0</td>\n",
       "      <td>0</td>\n",
       "    </tr>\n",
       "    <tr>\n",
       "      <th>4</th>\n",
       "      <td>Your Desired Large 2 Bedroom Home In Pahartali...</td>\n",
       "      <td>2</td>\n",
       "      <td>2</td>\n",
       "      <td>1</td>\n",
       "      <td>vacant</td>\n",
       "      <td>1150.0</td>\n",
       "      <td>4.6</td>\n",
       "      <td>4000.0</td>\n",
       "      <td>0</td>\n",
       "      <td>0</td>\n",
       "      <td>...</td>\n",
       "      <td>0</td>\n",
       "      <td>0</td>\n",
       "      <td>0</td>\n",
       "      <td>0</td>\n",
       "      <td>0</td>\n",
       "      <td>0</td>\n",
       "      <td>0</td>\n",
       "      <td>0</td>\n",
       "      <td>0</td>\n",
       "      <td>0</td>\n",
       "    </tr>\n",
       "  </tbody>\n",
       "</table>\n",
       "<p>5 rows × 163 columns</p>\n",
       "</div>"
      ],
      "text/plain": [
       "                                               Title  Bedrooms  Bathrooms  \\\n",
       "0  See This Flat Of 1000 Sq Ft As Your Dream Home...         3          3   \n",
       "1  1150 Square Feet And 2 Bedroom Flat Is For Sal...         2          2   \n",
       "2  Check This Fine Looking Flat Of 1150 Sq Ft Off...         2          2   \n",
       "3  Visit This 1050 Sq.ft Flat is For Sale At Paha...         2          2   \n",
       "4  Your Desired Large 2 Bedroom Home In Pahartali...         2          2   \n",
       "\n",
       "   Floor_no Occupancy_status  Floor_area  Price_in_taka(Mils)  price_per_sqft  \\\n",
       "0         3           vacant      1000.0                  4.0          4000.0   \n",
       "1         4           vacant      1150.0                  4.6          4000.0   \n",
       "2         4           vacant      1150.0                  4.6          4000.0   \n",
       "3         5           vacant      1050.0                  4.2          4000.0   \n",
       "4         1           vacant      1150.0                  4.6          4000.0   \n",
       "\n",
       "   City_cumilla  City_dhaka  ...  Location_West Kazipara, Mirpur  \\\n",
       "0             0           0  ...                               0   \n",
       "1             0           0  ...                               0   \n",
       "2             0           0  ...                               0   \n",
       "3             0           0  ...                               0   \n",
       "4             0           0  ...                               0   \n",
       "\n",
       "   Location_West Khulshi R/A, 9 No. North Pahartali Ward  \\\n",
       "0                                                  0       \n",
       "1                                                  0       \n",
       "2                                                  0       \n",
       "3                                                  0       \n",
       "4                                                  0       \n",
       "\n",
       "   Location_West Khulshi, 9 No. North Pahartali Ward  \\\n",
       "0                                                  0   \n",
       "1                                                  0   \n",
       "2                                                  0   \n",
       "3                                                  0   \n",
       "4                                                  0   \n",
       "\n",
       "   Location_West Monipur, Mirpur  Location_West Rampura, Rampura  \\\n",
       "0                              0                               0   \n",
       "1                              0                               0   \n",
       "2                              0                               0   \n",
       "3                              0                               0   \n",
       "4                              0                               0   \n",
       "\n",
       "   Location_West Shewrapara, Mirpur  \\\n",
       "0                                 0   \n",
       "1                                 0   \n",
       "2                                 0   \n",
       "3                                 0   \n",
       "4                                 0   \n",
       "\n",
       "   Location_Yakub Future Park Housing, Khulshi  \\\n",
       "0                                            0   \n",
       "1                                            0   \n",
       "2                                            0   \n",
       "3                                            0   \n",
       "4                                            0   \n",
       "\n",
       "   Location_Yakub Nagar Road, 33 No. Firingee Bazaar Ward  \\\n",
       "0                                                  0        \n",
       "1                                                  0        \n",
       "2                                                  0        \n",
       "3                                                  0        \n",
       "4                                                  0        \n",
       "\n",
       "   Location_Zakir Hossain Road, Khulshi  Location_other  \n",
       "0                                     0               0  \n",
       "1                                     0               0  \n",
       "2                                     0               0  \n",
       "3                                     0               0  \n",
       "4                                     0               0  \n",
       "\n",
       "[5 rows x 163 columns]"
      ]
     },
     "execution_count": 1581,
     "metadata": {},
     "output_type": "execute_result"
    }
   ],
   "source": [
    "df1.head()"
   ]
  },
  {
   "cell_type": "code",
   "execution_count": 1582,
   "id": "679f77ea-ab8b-4b1a-a818-d2685459cf44",
   "metadata": {},
   "outputs": [
    {
     "data": {
      "text/plain": [
       "(1667, 163)"
      ]
     },
     "execution_count": 1582,
     "metadata": {},
     "output_type": "execute_result"
    }
   ],
   "source": [
    "df1.shape"
   ]
  },
  {
   "cell_type": "code",
   "execution_count": 1583,
   "id": "2cc16692-d57e-4f6d-99e2-aa392fd12f1c",
   "metadata": {},
   "outputs": [
    {
     "data": {
      "text/html": [
       "<div>\n",
       "<style scoped>\n",
       "    .dataframe tbody tr th:only-of-type {\n",
       "        vertical-align: middle;\n",
       "    }\n",
       "\n",
       "    .dataframe tbody tr th {\n",
       "        vertical-align: top;\n",
       "    }\n",
       "\n",
       "    .dataframe thead th {\n",
       "        text-align: right;\n",
       "    }\n",
       "</style>\n",
       "<table border=\"1\" class=\"dataframe\">\n",
       "  <thead>\n",
       "    <tr style=\"text-align: right;\">\n",
       "      <th></th>\n",
       "      <th>Bedrooms</th>\n",
       "      <th>Bathrooms</th>\n",
       "      <th>Floor_no</th>\n",
       "      <th>Floor_area</th>\n",
       "      <th>Price_in_taka(Mils)</th>\n",
       "      <th>price_per_sqft</th>\n",
       "      <th>City_cumilla</th>\n",
       "      <th>City_dhaka</th>\n",
       "      <th>City_gazipur</th>\n",
       "      <th>City_narayanganj-city</th>\n",
       "      <th>...</th>\n",
       "      <th>Location_West Kazipara, Mirpur</th>\n",
       "      <th>Location_West Khulshi R/A, 9 No. North Pahartali Ward</th>\n",
       "      <th>Location_West Khulshi, 9 No. North Pahartali Ward</th>\n",
       "      <th>Location_West Monipur, Mirpur</th>\n",
       "      <th>Location_West Rampura, Rampura</th>\n",
       "      <th>Location_West Shewrapara, Mirpur</th>\n",
       "      <th>Location_Yakub Future Park Housing, Khulshi</th>\n",
       "      <th>Location_Yakub Nagar Road, 33 No. Firingee Bazaar Ward</th>\n",
       "      <th>Location_Zakir Hossain Road, Khulshi</th>\n",
       "      <th>Location_other</th>\n",
       "    </tr>\n",
       "  </thead>\n",
       "  <tbody>\n",
       "    <tr>\n",
       "      <th>0</th>\n",
       "      <td>3</td>\n",
       "      <td>3</td>\n",
       "      <td>3</td>\n",
       "      <td>1000.0</td>\n",
       "      <td>4.0</td>\n",
       "      <td>4000.0</td>\n",
       "      <td>0</td>\n",
       "      <td>0</td>\n",
       "      <td>0</td>\n",
       "      <td>0</td>\n",
       "      <td>...</td>\n",
       "      <td>0</td>\n",
       "      <td>0</td>\n",
       "      <td>0</td>\n",
       "      <td>0</td>\n",
       "      <td>0</td>\n",
       "      <td>0</td>\n",
       "      <td>0</td>\n",
       "      <td>0</td>\n",
       "      <td>0</td>\n",
       "      <td>0</td>\n",
       "    </tr>\n",
       "    <tr>\n",
       "      <th>1</th>\n",
       "      <td>2</td>\n",
       "      <td>2</td>\n",
       "      <td>4</td>\n",
       "      <td>1150.0</td>\n",
       "      <td>4.6</td>\n",
       "      <td>4000.0</td>\n",
       "      <td>0</td>\n",
       "      <td>0</td>\n",
       "      <td>0</td>\n",
       "      <td>0</td>\n",
       "      <td>...</td>\n",
       "      <td>0</td>\n",
       "      <td>0</td>\n",
       "      <td>0</td>\n",
       "      <td>0</td>\n",
       "      <td>0</td>\n",
       "      <td>0</td>\n",
       "      <td>0</td>\n",
       "      <td>0</td>\n",
       "      <td>0</td>\n",
       "      <td>0</td>\n",
       "    </tr>\n",
       "    <tr>\n",
       "      <th>2</th>\n",
       "      <td>2</td>\n",
       "      <td>2</td>\n",
       "      <td>4</td>\n",
       "      <td>1150.0</td>\n",
       "      <td>4.6</td>\n",
       "      <td>4000.0</td>\n",
       "      <td>0</td>\n",
       "      <td>0</td>\n",
       "      <td>0</td>\n",
       "      <td>0</td>\n",
       "      <td>...</td>\n",
       "      <td>0</td>\n",
       "      <td>0</td>\n",
       "      <td>0</td>\n",
       "      <td>0</td>\n",
       "      <td>0</td>\n",
       "      <td>0</td>\n",
       "      <td>0</td>\n",
       "      <td>0</td>\n",
       "      <td>0</td>\n",
       "      <td>0</td>\n",
       "    </tr>\n",
       "    <tr>\n",
       "      <th>3</th>\n",
       "      <td>2</td>\n",
       "      <td>2</td>\n",
       "      <td>5</td>\n",
       "      <td>1050.0</td>\n",
       "      <td>4.2</td>\n",
       "      <td>4000.0</td>\n",
       "      <td>0</td>\n",
       "      <td>0</td>\n",
       "      <td>0</td>\n",
       "      <td>0</td>\n",
       "      <td>...</td>\n",
       "      <td>0</td>\n",
       "      <td>0</td>\n",
       "      <td>0</td>\n",
       "      <td>0</td>\n",
       "      <td>0</td>\n",
       "      <td>0</td>\n",
       "      <td>0</td>\n",
       "      <td>0</td>\n",
       "      <td>0</td>\n",
       "      <td>0</td>\n",
       "    </tr>\n",
       "    <tr>\n",
       "      <th>4</th>\n",
       "      <td>2</td>\n",
       "      <td>2</td>\n",
       "      <td>1</td>\n",
       "      <td>1150.0</td>\n",
       "      <td>4.6</td>\n",
       "      <td>4000.0</td>\n",
       "      <td>0</td>\n",
       "      <td>0</td>\n",
       "      <td>0</td>\n",
       "      <td>0</td>\n",
       "      <td>...</td>\n",
       "      <td>0</td>\n",
       "      <td>0</td>\n",
       "      <td>0</td>\n",
       "      <td>0</td>\n",
       "      <td>0</td>\n",
       "      <td>0</td>\n",
       "      <td>0</td>\n",
       "      <td>0</td>\n",
       "      <td>0</td>\n",
       "      <td>0</td>\n",
       "    </tr>\n",
       "  </tbody>\n",
       "</table>\n",
       "<p>5 rows × 161 columns</p>\n",
       "</div>"
      ],
      "text/plain": [
       "   Bedrooms  Bathrooms  Floor_no  Floor_area  Price_in_taka(Mils)  \\\n",
       "0         3          3         3      1000.0                  4.0   \n",
       "1         2          2         4      1150.0                  4.6   \n",
       "2         2          2         4      1150.0                  4.6   \n",
       "3         2          2         5      1050.0                  4.2   \n",
       "4         2          2         1      1150.0                  4.6   \n",
       "\n",
       "   price_per_sqft  City_cumilla  City_dhaka  City_gazipur  \\\n",
       "0          4000.0             0           0             0   \n",
       "1          4000.0             0           0             0   \n",
       "2          4000.0             0           0             0   \n",
       "3          4000.0             0           0             0   \n",
       "4          4000.0             0           0             0   \n",
       "\n",
       "   City_narayanganj-city  ...  Location_West Kazipara, Mirpur  \\\n",
       "0                      0  ...                               0   \n",
       "1                      0  ...                               0   \n",
       "2                      0  ...                               0   \n",
       "3                      0  ...                               0   \n",
       "4                      0  ...                               0   \n",
       "\n",
       "   Location_West Khulshi R/A, 9 No. North Pahartali Ward  \\\n",
       "0                                                  0       \n",
       "1                                                  0       \n",
       "2                                                  0       \n",
       "3                                                  0       \n",
       "4                                                  0       \n",
       "\n",
       "   Location_West Khulshi, 9 No. North Pahartali Ward  \\\n",
       "0                                                  0   \n",
       "1                                                  0   \n",
       "2                                                  0   \n",
       "3                                                  0   \n",
       "4                                                  0   \n",
       "\n",
       "   Location_West Monipur, Mirpur  Location_West Rampura, Rampura  \\\n",
       "0                              0                               0   \n",
       "1                              0                               0   \n",
       "2                              0                               0   \n",
       "3                              0                               0   \n",
       "4                              0                               0   \n",
       "\n",
       "   Location_West Shewrapara, Mirpur  \\\n",
       "0                                 0   \n",
       "1                                 0   \n",
       "2                                 0   \n",
       "3                                 0   \n",
       "4                                 0   \n",
       "\n",
       "   Location_Yakub Future Park Housing, Khulshi  \\\n",
       "0                                            0   \n",
       "1                                            0   \n",
       "2                                            0   \n",
       "3                                            0   \n",
       "4                                            0   \n",
       "\n",
       "   Location_Yakub Nagar Road, 33 No. Firingee Bazaar Ward  \\\n",
       "0                                                  0        \n",
       "1                                                  0        \n",
       "2                                                  0        \n",
       "3                                                  0        \n",
       "4                                                  0        \n",
       "\n",
       "   Location_Zakir Hossain Road, Khulshi  Location_other  \n",
       "0                                     0               0  \n",
       "1                                     0               0  \n",
       "2                                     0               0  \n",
       "3                                     0               0  \n",
       "4                                     0               0  \n",
       "\n",
       "[5 rows x 161 columns]"
      ]
     },
     "execution_count": 1583,
     "metadata": {},
     "output_type": "execute_result"
    }
   ],
   "source": [
    "df1 = df1.drop(['Title', 'Occupancy_status'], axis=1)\n",
    "df1.head()"
   ]
  },
  {
   "cell_type": "markdown",
   "id": "cdbe9755-319e-4699-a214-03b60f78c39b",
   "metadata": {},
   "source": [
    "## Building Models"
   ]
  },
  {
   "cell_type": "code",
   "execution_count": 1585,
   "id": "b8610cfb-e476-49c1-a4ee-e27148e5e076",
   "metadata": {},
   "outputs": [],
   "source": [
    "from sklearn.model_selection import train_test_split\n",
    "# Split the data into features and target\n",
    "X = df1.drop(\"Price_in_taka(Mils)\", axis = 1)\n",
    "y = df1[\"Price_in_taka(Mils)\"]"
   ]
  },
  {
   "cell_type": "code",
   "execution_count": 1586,
   "id": "ee013dc0-5a4f-4872-bf7a-65557f17d9b6",
   "metadata": {},
   "outputs": [],
   "source": [
    "X_train, X_test, y_train, y_test = train_test_split(X, y, test_size=0.2, random_state=42)"
   ]
  },
  {
   "cell_type": "code",
   "execution_count": 1587,
   "id": "0043c648-652f-47a3-8089-870290e77230",
   "metadata": {},
   "outputs": [
    {
     "name": "stdout",
     "output_type": "stream",
     "text": [
      "LinearRegression MSE:  4.417838026509267\n",
      "LinearRegression R2:  0.9448474828043484\n",
      "\n",
      "\n",
      "SVR MSE:  22.601764664757237\n",
      "SVR R2:  0.7178384071925685\n",
      "\n",
      "\n",
      "DecisionTreeRegressor MSE:  2.4863141735029934\n",
      "DecisionTreeRegressor R2:  0.968960725951226\n",
      "\n",
      "\n",
      "RandomForestRegressor MSE:  3.86453706100767\n",
      "RandomForestRegressor R2:  0.9517549205218668\n",
      "\n",
      "\n",
      "KNeighborsRegressor MSE:  30.585354733943255\n",
      "KNeighborsRegressor R2:  0.6181708580584215\n",
      "\n",
      "\n",
      "GradientBoostingRegressor MSE:  1.981899294245323\n",
      "GradientBoostingRegressor R2:  0.9752578672531634\n",
      "\n",
      "\n",
      "XGBRegressor MSE:  3.879944995862308\n",
      "XGBRegressor R2:  0.9515625670704907\n",
      "\n",
      "\n"
     ]
    }
   ],
   "source": [
    "# Create a dictionaries of list of models to evaluate performance \n",
    "models = { \n",
    "          'LinearRegression' : (LinearRegression(), {}),\n",
    "          'SVR' : (SVR(), {}),\n",
    "          'DecisionTreeRegressor' : (DecisionTreeRegressor(criterion = \"absolute_error\", random_state = 42), {}),\n",
    "          'RandomForestRegressor' : (RandomForestRegressor(n_estimators=100, random_state=42), {}),\n",
    "          'KNeighborsRegressor' : (KNeighborsRegressor(n_neighbors=100), {}),\n",
    "          'GradientBoostingRegressor' : (GradientBoostingRegressor(), {}),\n",
    "          'XGBRegressor' : (XGBRegressor(), {})\n",
    "                \n",
    "          }\n",
    "\n",
    "\n",
    "# train and predict each model with evaluation metrics as well making a for loop to iterate over the models\n",
    "\n",
    "for name, (model, params) in models.items():\n",
    "    # create a pipline\n",
    "    pipeline = GridSearchCV(model, params, cv=5)\n",
    "    \n",
    "    # fit the pipeline\n",
    "    pipeline.fit(X_train, y_train)\n",
    "    \n",
    "    # make prediction from each model\n",
    "    y_pred = pipeline.predict(X_test)\n",
    "    \n",
    "      \n",
    "    # print the performing metric\n",
    "    print(name, 'MSE: ', mean_squared_error(y_test, y_pred))\n",
    "    print(name, 'R2: ', r2_score(y_test, y_pred))\n",
    "    print('\\n')"
   ]
  },
  {
   "cell_type": "markdown",
   "id": "63d73f16-1074-49d9-8b29-1979fb2127fd",
   "metadata": {},
   "source": [
    "## Evaluating good performing models"
   ]
  },
  {
   "cell_type": "code",
   "execution_count": 1589,
   "id": "053df597-0ca8-4f24-82a8-2c51d71b32ec",
   "metadata": {},
   "outputs": [
    {
     "data": {
      "text/plain": [
       "0.9749455883922837"
      ]
     },
     "execution_count": 1589,
     "metadata": {},
     "output_type": "execute_result"
    }
   ],
   "source": [
    "gb_clf = GradientBoostingRegressor()\n",
    "gb_clf.fit(X_train,y_train)\n",
    "gb_clf.score(X_test,y_test)"
   ]
  },
  {
   "cell_type": "code",
   "execution_count": 1590,
   "id": "10da2049-c38c-4735-a72a-49f1bb2a0c73",
   "metadata": {},
   "outputs": [
    {
     "data": {
      "text/plain": [
       "array([0.98292906, 0.98668233, 0.99075706, 0.98435034, 0.93620587])"
      ]
     },
     "execution_count": 1590,
     "metadata": {},
     "output_type": "execute_result"
    }
   ],
   "source": [
    "cv = ShuffleSplit(n_splits=5, test_size=0.2, random_state=0)\n",
    "cross_val_score(GradientBoostingRegressor(), X, y, cv=cv)"
   ]
  },
  {
   "cell_type": "code",
   "execution_count": 1591,
   "id": "a446e059-9889-4f0a-a045-19dc985fdc07",
   "metadata": {},
   "outputs": [
    {
     "data": {
      "text/plain": [
       "0.9480409964208963"
      ]
     },
     "execution_count": 1591,
     "metadata": {},
     "output_type": "execute_result"
    }
   ],
   "source": [
    "rf_clf = RandomForestRegressor()\n",
    "rf_clf.fit(X_train,y_train)\n",
    "rf_clf.score(X_test,y_test)"
   ]
  },
  {
   "cell_type": "code",
   "execution_count": 1592,
   "id": "4fc31ec6-604a-4bfa-a3b6-fb52d2910874",
   "metadata": {},
   "outputs": [
    {
     "data": {
      "text/plain": [
       "array([0.95295546, 0.96830943, 0.97495359, 0.95163816, 0.89800956])"
      ]
     },
     "execution_count": 1592,
     "metadata": {},
     "output_type": "execute_result"
    }
   ],
   "source": [
    "cv = ShuffleSplit(n_splits=5, test_size=0.2, random_state=0)\n",
    "cross_val_score(RandomForestRegressor(), X, y, cv=cv)"
   ]
  },
  {
   "cell_type": "markdown",
   "id": "668b9890-3934-4d08-9ed5-0a7b3864e8ea",
   "metadata": {},
   "source": [
    "## Predicting Prices"
   ]
  },
  {
   "cell_type": "code",
   "execution_count": 1594,
   "id": "c88eae11-2260-4901-aaf4-b7878436f406",
   "metadata": {},
   "outputs": [],
   "source": [
    "def predict_price_mils(location, bed, bath, floor, area):    \n",
    "    # Generate the one-hot encoded column name\n",
    "    loc_column = f'Location_{location}'\n",
    "    \n",
    "    # Check if the generated column exists in X.columns\n",
    "    if loc_column not in X.columns:\n",
    "        raise ValueError(f\"Location '{location}' not found in one-hot encoded columns.\")\n",
    "    \n",
    "    # Initialize the input array with zeros\n",
    "    x = np.zeros(len(X.columns))\n",
    "    x[0] = bed\n",
    "    x[1] = bath\n",
    "    x[2] = floor\n",
    "    x[3] = area\n",
    "    # Set the corresponding location column to 1\n",
    "    loc_index = np.where(X.columns == loc_column)[0][0]\n",
    "    x[loc_index] = 1\n",
    "    # Convert to a DataFrame with the correct column names\n",
    "    x_df = pd.DataFrame([x], columns=X.columns)\n",
    "    return gb_clf.predict(x_df)[0]\n",
    "\n",
    "    return gb_clf.predict([x])[0]"
   ]
  },
  {
   "cell_type": "code",
   "execution_count": 1595,
   "id": "86a517b9-2a1e-4d5d-bfc8-533dd68cb7b3",
   "metadata": {},
   "outputs": [
    {
     "data": {
      "text/plain": [
       "5.249121457309688"
      ]
     },
     "execution_count": 1595,
     "metadata": {},
     "output_type": "execute_result"
    }
   ],
   "source": [
    "predict_price('West Shewrapara, Mirpur', 3, 3, 2, 1450)"
   ]
  },
  {
   "cell_type": "markdown",
   "id": "1a9173de-c53a-4880-a614-a19bd286cd60",
   "metadata": {},
   "source": [
    "## Saving Model"
   ]
  },
  {
   "cell_type": "code",
   "execution_count": 1597,
   "id": "1e53b537-449d-4d34-98b4-e8618720bd3d",
   "metadata": {},
   "outputs": [],
   "source": [
    "import pickle\n",
    "# Save the model\n",
    "with open('bdhp.pkl', 'wb') as file:\n",
    "    pickle.dump(model, file)"
   ]
  },
  {
   "cell_type": "markdown",
   "id": "f4d571cc-487b-4e47-bd2b-57f16ec6b007",
   "metadata": {},
   "source": [
    "## json file"
   ]
  },
  {
   "cell_type": "code",
   "execution_count": 1599,
   "id": "62aa3b8e-46f0-4db3-a60d-645338a9ccf8",
   "metadata": {},
   "outputs": [],
   "source": [
    "import json\n",
    "columns = {\n",
    "    'data_columns' : [col.lower() for col in X.columns]\n",
    "}\n",
    "with open(\"columns.json\",\"w\") as file:\n",
    "    file.write(json.dumps(columns))"
   ]
  }
 ],
 "metadata": {
  "kernelspec": {
   "display_name": "Python [conda env:base] *",
   "language": "python",
   "name": "conda-base-py"
  },
  "language_info": {
   "codemirror_mode": {
    "name": "ipython",
    "version": 3
   },
   "file_extension": ".py",
   "mimetype": "text/x-python",
   "name": "python",
   "nbconvert_exporter": "python",
   "pygments_lexer": "ipython3",
   "version": "3.11.5"
  }
 },
 "nbformat": 4,
 "nbformat_minor": 5
}
